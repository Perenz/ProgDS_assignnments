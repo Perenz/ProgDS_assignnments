{
 "cells": [
  {
   "cell_type": "markdown",
   "metadata": {
    "id": "E_IPXIisRKAb"
   },
   "source": [
    "##### ID2214/FID3214 Assignment 1 Group no. 15\n",
    "### Project members: \n",
    "[Enter Name, email]\n",
    "[Enter Name, email]\n",
    "[Enter Name, email]\n",
    "[Enter Name, email]\n",
    "\n",
    "### Declaration:\n",
    "By submitting this solution, it is hereby declared that all individuals listed above have contributed to the solution, either with code that appear in the final solution below, or with code that has been evaluated and compared to the final solution, but for some reason has been excluded. It is also declared that all project members fully understand all parts of the final solution and can explain it upon request.\n",
    "\n",
    "It is furthermore declared that the code below is a contribution by the project members only, and specifically that no part of the solution has been copied from any other source (except for lecture slides at the course ID2214/FID3214) and no part of the solution has been provided by someone not listed as project member above.\n",
    "\n",
    "It is furthermore declared that it has been understood that no other library/package than the Python 3 standard library, NumPy and pandas may be used in the solution for this assignment.\n",
    "\n",
    "### Instructions\n",
    "All parts of the assignment starting with number 1 below are mandatory. Satisfactory solutions\n",
    "will give 1 point (in total). If they in addition are good (all parts work more or less \n",
    "as they should), completed on time (submitted before the deadline in Canvas) and according\n",
    "to the instructions, together with satisfactory solutions of all parts of the assignment starting \n",
    "with number 2 below, then the assignment will receive 2 points (in total).\n",
    "\n",
    "Note that you do not have to develop the code directly within the notebook\n",
    "but may instead copy the comments and test cases to a more convenient development environment\n",
    "and when everything works as expected, you may paste your functions into this\n",
    "notebook, do a final testing (all cells should succeed) and submit the whole notebook \n",
    "(a single file) in Canvas (do not forget to fill in your group number and names above)."
   ]
  },
  {
   "cell_type": "markdown",
   "metadata": {
    "id": "5v5fJSjKRKAc"
   },
   "source": [
    "## Load NumPy and pandas"
   ]
  },
  {
   "cell_type": "code",
   "execution_count": 3,
   "metadata": {
    "id": "Dw5i0ptQRKAd"
   },
   "outputs": [],
   "source": [
    "import numpy as np\n",
    "import pandas as pd"
   ]
  },
  {
   "cell_type": "markdown",
   "metadata": {
    "id": "mhLu7X6oRKAg"
   },
   "source": [
    "## 1a. Create and apply column filter"
   ]
  },
  {
   "cell_type": "code",
   "execution_count": 86,
   "metadata": {
    "id": "WmxSJMkSRKAg"
   },
   "outputs": [],
   "source": [
    "# Insert the functions create_column_filter and apply_column_filter below (after the comments)\n",
    "#\n",
    "# Input to create_column_filter:\n",
    "# df - a dataframe (where the column names \"CLASS\" and \"ID\" have special meaning)\n",
    "#\n",
    "# Output from create_filter:\n",
    "# df            - a new dataframe, where columns, except \"CLASS\" and \"ID\", containing only missing values \n",
    "#                 or only one unique value (apart from the missing values) have been dropped\n",
    "# column_filter - a list of the names of the remaining columns, including \"CLASS\" and \"ID\"\n",
    "#\n",
    "# Hint 1: First copy the input dataframe and modify the copy (the input dataframe should be kept unchanged)\n",
    "#\n",
    "# Hint 2: Iterate through all columns and consider to drop a column only if it is not labeled \"CLASS\" or \"ID\"\n",
    "#\n",
    "# Hint 3: You may check the number of unique (non-missing) values in a column by applying the pandas functions\n",
    "#         dropna and unique to drop missing values and get the unique (remaining) values\n",
    "#\n",
    "def create_column_filter(df):\n",
    "  to_rtn = df.copy()\n",
    "  to_rtn = to_rtn.dropna(axis='columns', how='all')\n",
    "  to_rtn = to_rtn.drop([col for col in to_rtn.columns if len(to_rtn[col].unique())==1], axis=1)\n",
    "\n",
    "  return to_rtn, to_rtn.columns\n",
    "\n",
    "def apply_column_filter(df, column_filter):\n",
    "  return df[column_filter]\n",
    "\n",
    "\n",
    "# Input to apply_column_filter:\n",
    "# df            - a dataframe\n",
    "# column_filter - a list of the names of the columns to keep (see above)\n",
    "#\n",
    "# Output from apply_column_filter:\n",
    "# df - a new dataframe, where each column that is not included in column_filter has been dropped\n",
    "#\n",
    "# Hint 1: First copy the input dataframe and modify the copy (the input dataframe should be kept unchanged)\n",
    "\n"
   ]
  },
  {
   "cell_type": "code",
   "execution_count": 87,
   "metadata": {
    "colab": {
     "base_uri": "https://localhost:8080/",
     "height": 730
    },
    "id": "eTXarhUVRKAj",
    "outputId": "df24369a-1070-47cb-9b85-40190f492288"
   },
   "outputs": [
    {
     "name": "stdout",
     "output_type": "stream",
     "text": [
      "Index(['CLASS', 'A', 'B', 'C', 'D'], dtype='object')\n"
     ]
    },
    {
     "data": {
      "text/plain": [
       "'df'"
      ]
     },
     "metadata": {},
     "output_type": "display_data"
    },
    {
     "data": {
      "text/html": [
       "<div>\n",
       "<style scoped>\n",
       "    .dataframe tbody tr th:only-of-type {\n",
       "        vertical-align: middle;\n",
       "    }\n",
       "\n",
       "    .dataframe tbody tr th {\n",
       "        vertical-align: top;\n",
       "    }\n",
       "\n",
       "    .dataframe thead th {\n",
       "        text-align: right;\n",
       "    }\n",
       "</style>\n",
       "<table border=\"1\" class=\"dataframe\">\n",
       "  <thead>\n",
       "    <tr style=\"text-align: right;\">\n",
       "      <th></th>\n",
       "      <th>CLASS</th>\n",
       "      <th>A</th>\n",
       "      <th>B</th>\n",
       "      <th>C</th>\n",
       "      <th>D</th>\n",
       "    </tr>\n",
       "  </thead>\n",
       "  <tbody>\n",
       "    <tr>\n",
       "      <th>0</th>\n",
       "      <td>1</td>\n",
       "      <td>1.0</td>\n",
       "      <td>1.0</td>\n",
       "      <td>h</td>\n",
       "      <td>NaN</td>\n",
       "    </tr>\n",
       "    <tr>\n",
       "      <th>1</th>\n",
       "      <td>0</td>\n",
       "      <td>2.0</td>\n",
       "      <td>1.0</td>\n",
       "      <td>h</td>\n",
       "      <td>NaN</td>\n",
       "    </tr>\n",
       "    <tr>\n",
       "      <th>2</th>\n",
       "      <td>1</td>\n",
       "      <td>NaN</td>\n",
       "      <td>1.0</td>\n",
       "      <td>NaN</td>\n",
       "      <td>NaN</td>\n",
       "    </tr>\n",
       "    <tr>\n",
       "      <th>3</th>\n",
       "      <td>0</td>\n",
       "      <td>4.0</td>\n",
       "      <td>1.0</td>\n",
       "      <td>i</td>\n",
       "      <td>NaN</td>\n",
       "    </tr>\n",
       "    <tr>\n",
       "      <th>4</th>\n",
       "      <td>1</td>\n",
       "      <td>5.0</td>\n",
       "      <td>NaN</td>\n",
       "      <td>h</td>\n",
       "      <td>NaN</td>\n",
       "    </tr>\n",
       "  </tbody>\n",
       "</table>\n",
       "</div>"
      ],
      "text/plain": [
       "   CLASS    A    B    C   D\n",
       "0      1  1.0  1.0    h NaN\n",
       "1      0  2.0  1.0    h NaN\n",
       "2      1  NaN  1.0  NaN NaN\n",
       "3      0  4.0  1.0    i NaN\n",
       "4      1  5.0  NaN    h NaN"
      ]
     },
     "metadata": {},
     "output_type": "display_data"
    },
    {
     "data": {
      "text/plain": [
       "'filtered_df'"
      ]
     },
     "metadata": {},
     "output_type": "display_data"
    },
    {
     "data": {
      "text/html": [
       "<div>\n",
       "<style scoped>\n",
       "    .dataframe tbody tr th:only-of-type {\n",
       "        vertical-align: middle;\n",
       "    }\n",
       "\n",
       "    .dataframe tbody tr th {\n",
       "        vertical-align: top;\n",
       "    }\n",
       "\n",
       "    .dataframe thead th {\n",
       "        text-align: right;\n",
       "    }\n",
       "</style>\n",
       "<table border=\"1\" class=\"dataframe\">\n",
       "  <thead>\n",
       "    <tr style=\"text-align: right;\">\n",
       "      <th></th>\n",
       "      <th>CLASS</th>\n",
       "      <th>A</th>\n",
       "      <th>B</th>\n",
       "      <th>C</th>\n",
       "    </tr>\n",
       "  </thead>\n",
       "  <tbody>\n",
       "    <tr>\n",
       "      <th>0</th>\n",
       "      <td>1</td>\n",
       "      <td>1.0</td>\n",
       "      <td>1.0</td>\n",
       "      <td>h</td>\n",
       "    </tr>\n",
       "    <tr>\n",
       "      <th>1</th>\n",
       "      <td>0</td>\n",
       "      <td>2.0</td>\n",
       "      <td>1.0</td>\n",
       "      <td>h</td>\n",
       "    </tr>\n",
       "    <tr>\n",
       "      <th>2</th>\n",
       "      <td>1</td>\n",
       "      <td>NaN</td>\n",
       "      <td>1.0</td>\n",
       "      <td>NaN</td>\n",
       "    </tr>\n",
       "    <tr>\n",
       "      <th>3</th>\n",
       "      <td>0</td>\n",
       "      <td>4.0</td>\n",
       "      <td>1.0</td>\n",
       "      <td>i</td>\n",
       "    </tr>\n",
       "    <tr>\n",
       "      <th>4</th>\n",
       "      <td>1</td>\n",
       "      <td>5.0</td>\n",
       "      <td>NaN</td>\n",
       "      <td>h</td>\n",
       "    </tr>\n",
       "  </tbody>\n",
       "</table>\n",
       "</div>"
      ],
      "text/plain": [
       "   CLASS    A    B    C\n",
       "0      1  1.0  1.0    h\n",
       "1      0  2.0  1.0    h\n",
       "2      1  NaN  1.0  NaN\n",
       "3      0  4.0  1.0    i\n",
       "4      1  5.0  NaN    h"
      ]
     },
     "metadata": {},
     "output_type": "display_data"
    },
    {
     "data": {
      "text/plain": [
       "'new_df'"
      ]
     },
     "metadata": {},
     "output_type": "display_data"
    },
    {
     "data": {
      "text/html": [
       "<div>\n",
       "<style scoped>\n",
       "    .dataframe tbody tr th:only-of-type {\n",
       "        vertical-align: middle;\n",
       "    }\n",
       "\n",
       "    .dataframe tbody tr th {\n",
       "        vertical-align: top;\n",
       "    }\n",
       "\n",
       "    .dataframe thead th {\n",
       "        text-align: right;\n",
       "    }\n",
       "</style>\n",
       "<table border=\"1\" class=\"dataframe\">\n",
       "  <thead>\n",
       "    <tr style=\"text-align: right;\">\n",
       "      <th></th>\n",
       "      <th>CLASS</th>\n",
       "      <th>A</th>\n",
       "      <th>B</th>\n",
       "      <th>C</th>\n",
       "      <th>D</th>\n",
       "    </tr>\n",
       "  </thead>\n",
       "  <tbody>\n",
       "    <tr>\n",
       "      <th>0</th>\n",
       "      <td>1</td>\n",
       "      <td>4</td>\n",
       "      <td>1</td>\n",
       "      <td>NaN</td>\n",
       "      <td>NaN</td>\n",
       "    </tr>\n",
       "    <tr>\n",
       "      <th>1</th>\n",
       "      <td>0</td>\n",
       "      <td>5</td>\n",
       "      <td>2</td>\n",
       "      <td>NaN</td>\n",
       "      <td>4.0</td>\n",
       "    </tr>\n",
       "    <tr>\n",
       "      <th>2</th>\n",
       "      <td>0</td>\n",
       "      <td>6</td>\n",
       "      <td>1</td>\n",
       "      <td>NaN</td>\n",
       "      <td>5.0</td>\n",
       "    </tr>\n",
       "  </tbody>\n",
       "</table>\n",
       "</div>"
      ],
      "text/plain": [
       "   CLASS  A  B   C    D\n",
       "0      1  4  1 NaN  NaN\n",
       "1      0  5  2 NaN  4.0\n",
       "2      0  6  1 NaN  5.0"
      ]
     },
     "metadata": {},
     "output_type": "display_data"
    },
    {
     "data": {
      "text/plain": [
       "'filtered_new_df'"
      ]
     },
     "metadata": {},
     "output_type": "display_data"
    },
    {
     "data": {
      "text/html": [
       "<div>\n",
       "<style scoped>\n",
       "    .dataframe tbody tr th:only-of-type {\n",
       "        vertical-align: middle;\n",
       "    }\n",
       "\n",
       "    .dataframe tbody tr th {\n",
       "        vertical-align: top;\n",
       "    }\n",
       "\n",
       "    .dataframe thead th {\n",
       "        text-align: right;\n",
       "    }\n",
       "</style>\n",
       "<table border=\"1\" class=\"dataframe\">\n",
       "  <thead>\n",
       "    <tr style=\"text-align: right;\">\n",
       "      <th></th>\n",
       "      <th>CLASS</th>\n",
       "      <th>A</th>\n",
       "      <th>B</th>\n",
       "      <th>C</th>\n",
       "    </tr>\n",
       "  </thead>\n",
       "  <tbody>\n",
       "    <tr>\n",
       "      <th>0</th>\n",
       "      <td>1</td>\n",
       "      <td>4</td>\n",
       "      <td>1</td>\n",
       "      <td>NaN</td>\n",
       "    </tr>\n",
       "    <tr>\n",
       "      <th>1</th>\n",
       "      <td>0</td>\n",
       "      <td>5</td>\n",
       "      <td>2</td>\n",
       "      <td>NaN</td>\n",
       "    </tr>\n",
       "    <tr>\n",
       "      <th>2</th>\n",
       "      <td>0</td>\n",
       "      <td>6</td>\n",
       "      <td>1</td>\n",
       "      <td>NaN</td>\n",
       "    </tr>\n",
       "  </tbody>\n",
       "</table>\n",
       "</div>"
      ],
      "text/plain": [
       "   CLASS  A  B   C\n",
       "0      1  4  1 NaN\n",
       "1      0  5  2 NaN\n",
       "2      0  6  1 NaN"
      ]
     },
     "metadata": {},
     "output_type": "display_data"
    }
   ],
   "source": [
    "# Test your code (leave this part unchanged)\n",
    "\n",
    "df = pd.DataFrame({\"CLASS\":[1,0,1,0,1],\"A\":[1,2,np.nan,4,5],\"B\":[1,1,1,1,np.nan],\"C\":[\"h\",\"h\",np.nan,\"i\",\"h\"],\"D\":[np.nan,np.nan,np.nan,np.nan,np.nan]})\n",
    "\n",
    "print(df.columns)\n",
    "filtered_df, column_filter = create_column_filter(df)\n",
    "\n",
    "\n",
    "new_df = pd.DataFrame({\"CLASS\":[1,0,0],\"A\":[4,5,6],\"B\":[1,2,1],\"C\":[np.nan,np.nan,np.nan],\"D\":[np.nan,4,5]})\n",
    "\n",
    "filtered_new_df = apply_column_filter(new_df,column_filter)\n",
    "\n",
    "display(\"df\",df)\n",
    "display(\"filtered_df\",filtered_df)\n",
    "display(\"new_df\",new_df)\n",
    "display(\"filtered_new_df\",filtered_new_df)"
   ]
  },
  {
   "cell_type": "markdown",
   "metadata": {
    "id": "STAwj_eXRKAm"
   },
   "source": [
    "## 1b. Create and apply normalization"
   ]
  },
  {
   "cell_type": "code",
   "execution_count": 75,
   "metadata": {
    "id": "GjaBVNZrRKAn"
   },
   "outputs": [],
   "source": [
    "# Insert the functions create_normalization and apply_normalization below (after the comments)\n",
    "#\n",
    "# Input to create_normalization:\n",
    "# df: a dataframe (where the column names \"CLASS\" and \"ID\" have special meaning)\n",
    "# normalizationtype: \"minmax\" (default) or \"zscore\"\n",
    "#\n",
    "# Output from create_normalization:\n",
    "# df            - a new dataframe, where each numeric value in a column has been replaced by a normalized value\n",
    "# normalization - a mapping (dictionary) from each column name to a triple, consisting of\n",
    "#                (\"minmax\",min_value,max_value) or (\"zscore\",mean,std)\n",
    "#\n",
    "# Hint 1: First copy the input dataframe and modify the copy (the input dataframe should be kept unchanged)\n",
    "#\n",
    "# Hint 2: Consider columns of type \"float\" or \"int\" only (and which are not labeled \"CLASS\" or \"ID\"),\n",
    "#         the other columns should remain unchanged\n",
    "#\n",
    "# Hint 3: Take a close look at the lecture slides on data preparation\n",
    "\n",
    "'''\n",
    "def create_normalization(df, normalizationtype):\n",
    "    to_rtn = df\n",
    "    norm_dict = {}\n",
    "for col in to_rtn.columns:\n",
    "    #Check if col is numeric\n",
    "    if pd.api.types.is_numeric_dtype(to_rtn[col]):\n",
    "      if normalizationtype == 'minmax':\n",
    "        max = to_rtn[col].max()\n",
    "        min = to_rtn[col].min()\n",
    "        norm_dict[col] = ('minmax', min, max)\n",
    "        to_rtn = to_rtn[col].apply(lambda x: (x-min)/(max-min))\n",
    "      if normalizationtype == 'zscore':\n",
    "        mean = to_rtn[col].mean()\n",
    "        std = to_rtn[col].std()\n",
    "        norm_dict[col] = ('zscore', mean, std)\n",
    "        to_rtn = to_rtn[col].apply(lambda x: (x-mean)/std)\n",
    "  return to_rtn, norm_dict\n",
    "'''\n",
    "\n",
    "def create_normalization(df, normalizationtype='minmax'):\n",
    "    to_rtn = df.copy()\n",
    "    norm_dict = {}\n",
    "    colu = to_rtn.columns\n",
    "    print(colu)\n",
    "    for col in colu:\n",
    "        #Check if col is numeric\n",
    "        if pd.api.types.is_numeric_dtype(to_rtn[col]) and col not in ['CLASS', 'ID']:\n",
    "            if normalizationtype == 'minmax':\n",
    "                max = to_rtn[col].max()\n",
    "                min = to_rtn[col].min()\n",
    "                norm_dict[col] = (normalizationtype, min, max)\n",
    "                to_rtn[col] = to_rtn[col].apply(lambda x: (x-min)/(max-min))\n",
    "            if normalizationtype == 'zscore':\n",
    "                mean = to_rtn[col].mean()\n",
    "                std = to_rtn[col].std()\n",
    "                norm_dict[col] = ('zscore', mean, std)\n",
    "                to_rtn[col] = to_rtn[col].apply(lambda x: (x-mean)/std)\n",
    "    return to_rtn, norm_dict\n",
    "\n",
    "def apply_normalization(df, norm_dict):\n",
    "  to_rtn = df.copy()\n",
    "  for col in to_rtn.columns:\n",
    "    if pd.api.types.is_numeric_dtype(to_rtn[col]) and col not in ['CLASS', 'ID']:\n",
    "        min = norm_dict[col][1]\n",
    "        mean = norm_dict[col][1]\n",
    "        max = std = norm_dict[col][2]\n",
    "        normtype = norm_dict[col][0]\n",
    "        if normtype == 'minmax':\n",
    "            val_list = []\n",
    "            for x in to_rtn[col]:\n",
    "                v = (x-min)/(max-min)\n",
    "                if v > 1.0:\n",
    "                    v = 1\n",
    "                if v < 0.0:\n",
    "                    v = 0\n",
    "                val_list.append(v)\n",
    "            to_rtn[col] = val_list\n",
    "            #to_rtn[col] = to_rtn[col].apply(lambda x: (x-min)/(max-min)) #Have to consider the [0,1] range\n",
    "        if normtype == 'zscore':\n",
    "            to_rtn[col] = to_rtn[col].apply(lambda x: (x-mean)/std)\n",
    "  return to_rtn\n",
    "\n",
    "#\n",
    "# Input to apply_normalization:\n",
    "# df            - a dataframe\n",
    "# normalization - a mapping (dictionary) from column names to triples (see above)\n",
    "#\n",
    "# Output from apply_normalization:\n",
    "# df - a new dataframe, where each numerical value has been normalized according to the mapping\n",
    "#\n",
    "# Hint 1: First copy the input dataframe and modify the copy (the input dataframe should be kept unchanged)\n",
    "#\n",
    "# Hint 2: For minmax-normalization, you may consider to limit the output range to [0,1]\n",
    "\n"
   ]
  },
  {
   "cell_type": "code",
   "execution_count": 46,
   "metadata": {
    "colab": {
     "base_uri": "https://localhost:8080/",
     "height": 443
    },
    "id": "B9-6QswIRKAq",
    "outputId": "8b74575d-d47a-499f-ae80-e2839d58b328"
   },
   "outputs": [
    {
     "name": "stdout",
     "output_type": "stream",
     "text": [
      "Index(['ID', 'RI', 'Na', 'Mg', 'Al', 'Si', 'K', 'Ca', 'Ba', 'Fe', 'CLASS'], dtype='object')\n",
      "normalization:\n",
      "\n",
      "RI:('minmax', 1.51131, 1.53125)\n",
      "Na:('minmax', 10.73, 15.79)\n",
      "Mg:('minmax', 0.0, 4.49)\n",
      "Al:('minmax', 0.29, 3.04)\n",
      "Si:('minmax', 69.81, 75.18)\n",
      "K:('minmax', 0.0, 6.21)\n",
      "Ca:('minmax', 5.43, 14.68)\n",
      "Ba:('minmax', 0.0, 3.15)\n",
      "Fe:('minmax', 0.0, 0.37)\n",
      "\n"
     ]
    },
    {
     "data": {
      "text/plain": [
       "'glass_test_norm'"
      ]
     },
     "metadata": {},
     "output_type": "display_data"
    },
    {
     "data": {
      "text/html": [
       "<div>\n",
       "<style scoped>\n",
       "    .dataframe tbody tr th:only-of-type {\n",
       "        vertical-align: middle;\n",
       "    }\n",
       "\n",
       "    .dataframe tbody tr th {\n",
       "        vertical-align: top;\n",
       "    }\n",
       "\n",
       "    .dataframe thead th {\n",
       "        text-align: right;\n",
       "    }\n",
       "</style>\n",
       "<table border=\"1\" class=\"dataframe\">\n",
       "  <thead>\n",
       "    <tr style=\"text-align: right;\">\n",
       "      <th></th>\n",
       "      <th>ID</th>\n",
       "      <th>RI</th>\n",
       "      <th>Na</th>\n",
       "      <th>Mg</th>\n",
       "      <th>Al</th>\n",
       "      <th>Si</th>\n",
       "      <th>K</th>\n",
       "      <th>Ca</th>\n",
       "      <th>Ba</th>\n",
       "      <th>Fe</th>\n",
       "      <th>CLASS</th>\n",
       "    </tr>\n",
       "  </thead>\n",
       "  <tbody>\n",
       "    <tr>\n",
       "      <th>0</th>\n",
       "      <td>101</td>\n",
       "      <td>0.262788</td>\n",
       "      <td>0.399209</td>\n",
       "      <td>0.634744</td>\n",
       "      <td>0.418182</td>\n",
       "      <td>0.644320</td>\n",
       "      <td>0.091787</td>\n",
       "      <td>0.363243</td>\n",
       "      <td>0.034921</td>\n",
       "      <td>0.594595</td>\n",
       "      <td>2</td>\n",
       "    </tr>\n",
       "    <tr>\n",
       "      <th>1</th>\n",
       "      <td>104</td>\n",
       "      <td>0.799398</td>\n",
       "      <td>0.606719</td>\n",
       "      <td>0.701559</td>\n",
       "      <td>0.134545</td>\n",
       "      <td>0.141527</td>\n",
       "      <td>0.012882</td>\n",
       "      <td>0.671351</td>\n",
       "      <td>0.000000</td>\n",
       "      <td>0.000000</td>\n",
       "      <td>2</td>\n",
       "    </tr>\n",
       "    <tr>\n",
       "      <th>2</th>\n",
       "      <td>44</td>\n",
       "      <td>0.541123</td>\n",
       "      <td>0.592885</td>\n",
       "      <td>0.855234</td>\n",
       "      <td>0.156364</td>\n",
       "      <td>0.363128</td>\n",
       "      <td>0.027375</td>\n",
       "      <td>0.465946</td>\n",
       "      <td>0.000000</td>\n",
       "      <td>0.000000</td>\n",
       "      <td>1</td>\n",
       "    </tr>\n",
       "    <tr>\n",
       "      <th>3</th>\n",
       "      <td>17</td>\n",
       "      <td>0.327482</td>\n",
       "      <td>0.385375</td>\n",
       "      <td>0.817372</td>\n",
       "      <td>0.316364</td>\n",
       "      <td>0.614525</td>\n",
       "      <td>0.098229</td>\n",
       "      <td>0.353514</td>\n",
       "      <td>0.000000</td>\n",
       "      <td>0.000000</td>\n",
       "      <td>1</td>\n",
       "    </tr>\n",
       "    <tr>\n",
       "      <th>4</th>\n",
       "      <td>81</td>\n",
       "      <td>0.231194</td>\n",
       "      <td>0.420949</td>\n",
       "      <td>0.783964</td>\n",
       "      <td>0.665455</td>\n",
       "      <td>0.530726</td>\n",
       "      <td>0.111111</td>\n",
       "      <td>0.274595</td>\n",
       "      <td>0.000000</td>\n",
       "      <td>0.000000</td>\n",
       "      <td>2</td>\n",
       "    </tr>\n",
       "    <tr>\n",
       "      <th>...</th>\n",
       "      <td>...</td>\n",
       "      <td>...</td>\n",
       "      <td>...</td>\n",
       "      <td>...</td>\n",
       "      <td>...</td>\n",
       "      <td>...</td>\n",
       "      <td>...</td>\n",
       "      <td>...</td>\n",
       "      <td>...</td>\n",
       "      <td>...</td>\n",
       "      <td>...</td>\n",
       "    </tr>\n",
       "    <tr>\n",
       "      <th>102</th>\n",
       "      <td>80</td>\n",
       "      <td>0.230191</td>\n",
       "      <td>0.413043</td>\n",
       "      <td>0.783964</td>\n",
       "      <td>0.585455</td>\n",
       "      <td>0.567970</td>\n",
       "      <td>0.111111</td>\n",
       "      <td>0.274595</td>\n",
       "      <td>0.000000</td>\n",
       "      <td>0.000000</td>\n",
       "      <td>2</td>\n",
       "    </tr>\n",
       "    <tr>\n",
       "      <th>103</th>\n",
       "      <td>141</td>\n",
       "      <td>0.280341</td>\n",
       "      <td>0.513834</td>\n",
       "      <td>0.788419</td>\n",
       "      <td>0.480000</td>\n",
       "      <td>0.508380</td>\n",
       "      <td>0.109501</td>\n",
       "      <td>0.289730</td>\n",
       "      <td>0.000000</td>\n",
       "      <td>0.000000</td>\n",
       "      <td>2</td>\n",
       "    </tr>\n",
       "    <tr>\n",
       "      <th>104</th>\n",
       "      <td>14</td>\n",
       "      <td>0.309428</td>\n",
       "      <td>0.420949</td>\n",
       "      <td>0.792873</td>\n",
       "      <td>0.356364</td>\n",
       "      <td>0.633147</td>\n",
       "      <td>0.086957</td>\n",
       "      <td>0.318919</td>\n",
       "      <td>0.000000</td>\n",
       "      <td>0.459459</td>\n",
       "      <td>1</td>\n",
       "    </tr>\n",
       "    <tr>\n",
       "      <th>105</th>\n",
       "      <td>132</td>\n",
       "      <td>0.743731</td>\n",
       "      <td>0.586957</td>\n",
       "      <td>0.000000</td>\n",
       "      <td>0.389091</td>\n",
       "      <td>0.266294</td>\n",
       "      <td>0.030596</td>\n",
       "      <td>0.865946</td>\n",
       "      <td>0.000000</td>\n",
       "      <td>0.270270</td>\n",
       "      <td>2</td>\n",
       "    </tr>\n",
       "    <tr>\n",
       "      <th>106</th>\n",
       "      <td>102</td>\n",
       "      <td>0.300401</td>\n",
       "      <td>0.320158</td>\n",
       "      <td>0.605791</td>\n",
       "      <td>0.487273</td>\n",
       "      <td>0.569832</td>\n",
       "      <td>0.112721</td>\n",
       "      <td>0.410811</td>\n",
       "      <td>0.000000</td>\n",
       "      <td>0.000000</td>\n",
       "      <td>2</td>\n",
       "    </tr>\n",
       "  </tbody>\n",
       "</table>\n",
       "<p>107 rows × 11 columns</p>\n",
       "</div>"
      ],
      "text/plain": [
       "      ID        RI        Na        Mg        Al        Si         K  \\\n",
       "0    101  0.262788  0.399209  0.634744  0.418182  0.644320  0.091787   \n",
       "1    104  0.799398  0.606719  0.701559  0.134545  0.141527  0.012882   \n",
       "2     44  0.541123  0.592885  0.855234  0.156364  0.363128  0.027375   \n",
       "3     17  0.327482  0.385375  0.817372  0.316364  0.614525  0.098229   \n",
       "4     81  0.231194  0.420949  0.783964  0.665455  0.530726  0.111111   \n",
       "..   ...       ...       ...       ...       ...       ...       ...   \n",
       "102   80  0.230191  0.413043  0.783964  0.585455  0.567970  0.111111   \n",
       "103  141  0.280341  0.513834  0.788419  0.480000  0.508380  0.109501   \n",
       "104   14  0.309428  0.420949  0.792873  0.356364  0.633147  0.086957   \n",
       "105  132  0.743731  0.586957  0.000000  0.389091  0.266294  0.030596   \n",
       "106  102  0.300401  0.320158  0.605791  0.487273  0.569832  0.112721   \n",
       "\n",
       "           Ca        Ba        Fe  CLASS  \n",
       "0    0.363243  0.034921  0.594595      2  \n",
       "1    0.671351  0.000000  0.000000      2  \n",
       "2    0.465946  0.000000  0.000000      1  \n",
       "3    0.353514  0.000000  0.000000      1  \n",
       "4    0.274595  0.000000  0.000000      2  \n",
       "..        ...       ...       ...    ...  \n",
       "102  0.274595  0.000000  0.000000      2  \n",
       "103  0.289730  0.000000  0.000000      2  \n",
       "104  0.318919  0.000000  0.459459      1  \n",
       "105  0.865946  0.000000  0.270270      2  \n",
       "106  0.410811  0.000000  0.000000      2  \n",
       "\n",
       "[107 rows x 11 columns]"
      ]
     },
     "metadata": {},
     "output_type": "display_data"
    }
   ],
   "source": [
    "# Test your code (leave this part unchanged)\n",
    "\n",
    "glass_train_df = pd.read_csv(\"glass_train.csv\")\n",
    "\n",
    "glass_test_df = pd.read_csv(\"glass_test.csv\")\n",
    "\n",
    "#print(glass_train_df['RI'])\n",
    "\n",
    "glass_train_norm, normalization = create_normalization(glass_train_df,normalizationtype=\"minmax\")\n",
    "print(\"normalization:\\n\")\n",
    "for f in normalization:\n",
    "    print(\"{}:{}\".format(f,normalization[f]))\n",
    "\n",
    "print()\n",
    "    \n",
    "glass_test_norm = apply_normalization(glass_test_df,normalization)\n",
    "display(\"glass_test_norm\",glass_test_norm)"
   ]
  },
  {
   "cell_type": "markdown",
   "metadata": {
    "id": "JLHkCAEWRKAs"
   },
   "source": [
    "### Comment on assumptions, things that do not work properly, etc.\n"
   ]
  },
  {
   "cell_type": "markdown",
   "metadata": {
    "id": "ljyaicOTRKAt"
   },
   "source": [
    "## 1c. Create and apply imputation"
   ]
  },
  {
   "cell_type": "code",
   "execution_count": 84,
   "metadata": {
    "id": "zqBaxmc0RKAt"
   },
   "outputs": [],
   "source": [
    "# Insert the functions create_imputation and apply_imputation below (after the comments)\n",
    "#\n",
    "# Input to create_imputation:\n",
    "# df: a dataframe (where the column names \"CLASS\" and \"ID\" have special meaning)\n",
    "#\n",
    "# Output from create_imputation:\n",
    "# df         - a new dataframe, where each missing numeric value in a column has been replaced by the mean of that column \n",
    "#              and each missing categoric value in a column has been replaced by the mode of that column\n",
    "# imputation - a mapping (dictionary) from column name to value that has replaced missing values\n",
    "#\n",
    "# Hint 1: First copy the input dataframe and modify the copy (the input dataframe should be kept unchanged)\n",
    "#\n",
    "# Hint 2: Handle columns of type \"float\" or \"int\" only (and which are not labeled \"CLASS\" or \"ID\") in one way\n",
    "#         and columns of type \"object\" and \"category\" in other ways\n",
    "#\n",
    "# Hint 3: Consider using the pandas functions mean and mode respectively, as well as fillna\n",
    "#\n",
    "# Hint 4: In the rare case of all values in a column being missing*, replace numeric values with 0,\n",
    "#         object values with \"\" and category values with the first category (cat.categories[0])  \n",
    "#\n",
    "#         *Note that this will not occur if the previous column filter function has been applied\n",
    "def create_imputation(df):\n",
    "    to_rtn = df.copy()\n",
    "    imp_dict = {}\n",
    "    for col in to_rtn.columns:\n",
    "        if col not in ['CLASS', 'ID']:\n",
    "            if to_rtn[col].dtypes == \"int\" or to_rtn[col].dtype == \"float\":\n",
    "                val = to_rtn[col].mean()\n",
    "                to_rtn[col] = to_rtn[col].fillna(value=val)\n",
    "            else:\n",
    "                val = to_rtn[col].mode()[0]\n",
    "                to_rtn[col] = to_rtn[col].fillna(value=val)\n",
    "            imp_dict[col] = val\n",
    "    #to_rtn = to_rtn.fillna(value=imp_dict)\n",
    "    return to_rtn, imp_dict\n",
    "\n",
    "def apply_imputation(df, imputation):\n",
    "    to_rtn = df.copy()\n",
    "    to_rtn = to_rtn.fillna(value=imputation)\n",
    "    return to_rtn\n",
    "\n",
    "#\n",
    "# Input to apply_imputation:\n",
    "# df         - a dataframe\n",
    "# imputation - a mapping (dictionary) from column name to value that should replace missing values\n",
    "#\n",
    "# Output from apply_imputation:\n",
    "# df - a new dataframe, where each missing value has been replaced according to the mapping\n",
    "#\n",
    "# Hint 1: First copy the input dataframe and modify the copy (the input dataframe should be kept unchanged)\n",
    "#\n",
    "# Hint 2: Consider using fillna\n",
    "\n"
   ]
  },
  {
   "cell_type": "code",
   "execution_count": 85,
   "metadata": {
    "id": "86P8onsWRKAw",
    "outputId": "e8619bf7-eef2-421e-c47b-35d9a582aec1"
   },
   "outputs": [
    {
     "name": "stdout",
     "output_type": "stream",
     "text": [
      "Imputation:\n",
      "\n",
      "family:TN\n",
      "product-type:C\n",
      "steel:A\n",
      "carbon:3.859688195991091\n",
      "hardness:13.084632516703786\n",
      "temper_rolling:T\n",
      "condition:S\n",
      "formability:2.2517482517482517\n",
      "strength:26.302895322939868\n",
      "non-ageing:N\n",
      "surface-finish:P\n",
      "surface-quality:E\n",
      "enamelability:1.7142857142857142\n",
      "bc:Y\n",
      "bf:Y\n",
      "bt:Y\n",
      "bw/me:B\n",
      "bl:Y\n",
      "m:nan\n",
      "chrom:C\n",
      "phos:P\n",
      "cbond:Y\n",
      "marvi:nan\n",
      "exptl:nan\n",
      "ferro:Y\n",
      "corr:nan\n",
      "blue-bright-varn-clean:B\n",
      "lustre:Y\n",
      "jurofm:nan\n",
      "s:nan\n",
      "p:nan\n",
      "shape:SHEET\n",
      "thick:1.1911937639198227\n",
      "width:769.4917594654789\n",
      "len:1229.293986636971\n",
      "oil:Y\n",
      "bore:35.18930957683742\n",
      "packing:3.0\n",
      "\n",
      "No. of replaced missing values in training data:\n",
      "family                    382\n",
      "product-type                0\n",
      "steel                      43\n",
      "carbon                      0\n",
      "hardness                    0\n",
      "temper_rolling            374\n",
      "condition                 160\n",
      "formability               163\n",
      "strength                    0\n",
      "non-ageing                391\n",
      "surface-finish            444\n",
      "surface-quality           128\n",
      "enamelability             442\n",
      "bc                        448\n",
      "bf                        401\n",
      "bt                        411\n",
      "bw/me                     349\n",
      "bl                        377\n",
      "m                           0\n",
      "chrom                     432\n",
      "phos                      447\n",
      "cbond                     408\n",
      "marvi                       0\n",
      "exptl                       0\n",
      "ferro                     433\n",
      "corr                        0\n",
      "blue-bright-varn-clean    445\n",
      "lustre                    425\n",
      "jurofm                      0\n",
      "s                           0\n",
      "p                           0\n",
      "shape                       0\n",
      "thick                       0\n",
      "width                       0\n",
      "len                         0\n",
      "oil                       414\n",
      "bore                        0\n",
      "packing                   445\n",
      "CLASS                       0\n",
      "dtype: int64\n",
      "\n",
      "No. of replaced missing values in test data:\n",
      "family                    390\n",
      "product-type                0\n",
      "steel                      43\n",
      "carbon                      0\n",
      "hardness                    0\n",
      "temper_rolling            387\n",
      "condition                 143\n",
      "formability               155\n",
      "strength                    0\n",
      "non-ageing                402\n",
      "surface-finish            445\n",
      "surface-quality           116\n",
      "enamelability             440\n",
      "bc                        449\n",
      "bf                        368\n",
      "bt                        413\n",
      "bw/me                     338\n",
      "bl                        372\n",
      "m                           0\n",
      "chrom                     440\n",
      "phos                      444\n",
      "cbond                     416\n",
      "marvi                       0\n",
      "exptl                       0\n",
      "ferro                     435\n",
      "corr                        0\n",
      "blue-bright-varn-clean    447\n",
      "lustre                    422\n",
      "jurofm                      0\n",
      "s                           0\n",
      "p                           0\n",
      "shape                       0\n",
      "thick                       0\n",
      "width                       0\n",
      "len                         0\n",
      "oil                       420\n",
      "bore                        0\n",
      "packing                   444\n",
      "CLASS                       0\n",
      "dtype: int64\n"
     ]
    }
   ],
   "source": [
    "# Test your code (leave this part unchanged)\n",
    "\n",
    "anneal_train_df = pd.read_csv(\"anneal_train.csv\")\n",
    "anneal_test_df = pd.read_csv(\"anneal_test.csv\")\n",
    "\n",
    "anneal_train_imp, imputation = create_imputation(anneal_train_df)\n",
    "anneal_test_imp = apply_imputation(anneal_test_df,imputation)\n",
    "\n",
    "print(\"Imputation:\\n\")\n",
    "for f in imputation:\n",
    "    print(\"{}:{}\".format(f,imputation[f]))\n",
    "\n",
    "print(\"\\nNo. of replaced missing values in training data:\\n{}\".format(anneal_train_imp.count()-anneal_train_df.count()))\n",
    "print(\"\\nNo. of replaced missing values in test data:\\n{}\".format(anneal_test_imp.count()-anneal_test_df.count()))"
   ]
  },
  {
   "cell_type": "markdown",
   "metadata": {
    "id": "8y-fIoI_RKAz"
   },
   "source": [
    "### Comment on assumptions, things that do not work properly, etc."
   ]
  },
  {
   "cell_type": "markdown",
   "metadata": {
    "id": "GVypGvneRKAz"
   },
   "source": [
    "## 1d. Create and apply discretization"
   ]
  },
  {
   "cell_type": "code",
   "execution_count": 90,
   "metadata": {
    "id": "yiIyPjNYRKAz"
   },
   "outputs": [],
   "source": [
    "# Insert the functions create_bins and apply_bins below\n",
    "#\n",
    "# Input to create_bins:\n",
    "# df      - a dataframe\n",
    "# nobins  - no. of bins (default = 10)\n",
    "# bintype - either \"equal-width\" (default) or \"equal-size\" \n",
    "#\n",
    "# Output from create_bins:\n",
    "# df      - a new dataframe, where each numeric feature value has been replaced by a categoric (corresponding to some bin)\n",
    "# binning - a mapping (dictionary) from column name to bins (threshold values for the bin)\n",
    "#\n",
    "# Hint 1: First copy the input dataframe and modify the copy (the input dataframe should be kept unchanged)\n",
    "#\n",
    "# Hint 2: Discretize columns of type \"float\" or \"int\" only (and which are not labeled \"CLASS\" or \"ID\")\n",
    "#\n",
    "# Hint 3: Consider using pd.cut and pd.qcut respectively, with labels=False and retbins=True\n",
    "#\n",
    "# Hint 4: Set all columns in the new dataframe to be of type \"category\"\n",
    "#\n",
    "# Hint 5: Set the categories of the discretized features to be [0,...,nobins-1]\n",
    "#\n",
    "# Hint 6: Change the first and the last element of each binning to -np.inf and np.inf respectively \n",
    "#\n",
    "def create_bins(df, nobins=10, bintype='equal-width'):\n",
    "    to_rtn = df.copy()\n",
    "    bins = {}\n",
    "    for col in to_rtn.columns:\n",
    "        if col != \"CLASS\" and col != \"ID\" and df[col].dtype in [\"float64\", \"float32\", \"int64\", \"int32\"]:\n",
    "            if bintype == \"equal-width\":\n",
    "                to_rtn[col], bins = pd.cut(to_rtn[col],nobins,retbins=True,duplicates=\"drop\",labels=False)\n",
    "                bins[col] = bins    \n",
    "            elif bintype == \"equal-size\":\n",
    "                to_rtn[col], bins = pd.qcut(to_rtn[col],q=nobins,retbins=True,duplicates=\"drop\",labels=False)\n",
    "                bins[col] = bins\n",
    "            to_rtn[col] = to_rtn[col].astype(\"category\")\n",
    "            to_rtn[col] = to_rtn[col].cat.set_categories([str(i) for i in df[col].cat.categories], rename = True)\n",
    "            bins[col][0] = -np.inf\n",
    "            bins[col][-1] = np.inf\n",
    "        else:\n",
    "            to_rtn[col] = to_rtn[col].astype('category')\n",
    "    return to_rtn, bins\n",
    "\n",
    "\n",
    "def apply_bins(dataframe,binning):\n",
    "    to_rtn = dataframe.copy()\n",
    "    bin_labels = {}\n",
    "    for col in binning:  \n",
    "        bins = binning[col]\n",
    "        to_rtn[col] = pd.cut(to_rtn[col],bins,labels=False)\n",
    "        to_rtn[col] = to_rtn[col].astype(\"category\")\n",
    "        to_rtn[col] = to_rtn[col].cat.set_categories([str(i) for i in to_rtn[col].cat.categories], rename = True)        \n",
    "    to_rtn = to_rtn.astype(\"category\")\n",
    "    return df\n",
    "            \n",
    "\n",
    "# Input to apply_bins:\n",
    "# df      - a dataframe\n",
    "# binning - a mapping (dictionary) from column name to bins (threshold values for the bin)\n",
    "#\n",
    "# Output from apply_bins:\n",
    "# df - a new dataframe, where each numeric feature value has been replaced by a categoric (corresponding to some bin)\n",
    "#\n",
    "# Hint 1: First copy the input dataframe and modify the copy (the input dataframe should be kept unchanged)\n",
    "#\n",
    "# Hint 2: Consider using pd.cut \n",
    "#\n",
    "# Hint 3: Set all columns in the new dataframe to be of type \"category\"\n",
    "#\n",
    "# Hint 4: Set the categories of the discretized features to be [0,...,nobins-1]\n",
    "\n"
   ]
  },
  {
   "cell_type": "code",
   "execution_count": null,
   "metadata": {
    "id": "WubJWZrvRKA2",
    "outputId": "e852c9ee-996a-462e-8827-5463d12e0fd6"
   },
   "outputs": [
    {
     "name": "stdout",
     "output_type": "stream",
     "text": [
      "binning:\n",
      "RI:[    -inf 1.515896 1.51618  1.516516 1.516866 1.51753  1.517902 1.518618\n",
      " 1.520114 1.521846      inf]\n",
      "Na:[  -inf 12.73  12.872 13.    13.222 13.38  13.492 13.794 14.198 14.82\n",
      "    inf]\n",
      "Mg:[ -inf 1.82  3.188 3.41  3.476 3.55  3.61  3.728   inf]\n",
      "Al:[ -inf 0.906 1.172 1.23  1.348 1.48  1.54  1.622 1.808 2.094   inf]\n",
      "Si:[  -inf 71.756 72.196 72.388 72.72  72.79  72.966 73.06  73.208 73.372\n",
      "    inf]\n",
      "K:[ -inf 0.006 0.148 0.39  0.54  0.576 0.6   0.636 0.67    inf]\n",
      "Ca:[  -inf  7.978  8.112  8.338  8.554  8.67   8.81   9.032  9.674 10.924\n",
      "    inf]\n",
      "Ba:[-inf 0.78  inf]\n",
      "Fe:[ -inf 0.062 0.118 0.24    inf]\n",
      "\n"
     ]
    },
    {
     "data": {
      "text/plain": [
       "'glass_test_disc'"
      ]
     },
     "metadata": {
      "tags": []
     },
     "output_type": "display_data"
    },
    {
     "data": {
      "text/html": [
       "<div>\n",
       "<style scoped>\n",
       "    .dataframe tbody tr th:only-of-type {\n",
       "        vertical-align: middle;\n",
       "    }\n",
       "\n",
       "    .dataframe tbody tr th {\n",
       "        vertical-align: top;\n",
       "    }\n",
       "\n",
       "    .dataframe thead th {\n",
       "        text-align: right;\n",
       "    }\n",
       "</style>\n",
       "<table border=\"1\" class=\"dataframe\">\n",
       "  <thead>\n",
       "    <tr style=\"text-align: right;\">\n",
       "      <th></th>\n",
       "      <th>ID</th>\n",
       "      <th>RI</th>\n",
       "      <th>Na</th>\n",
       "      <th>Mg</th>\n",
       "      <th>Al</th>\n",
       "      <th>Si</th>\n",
       "      <th>K</th>\n",
       "      <th>Ca</th>\n",
       "      <th>Ba</th>\n",
       "      <th>Fe</th>\n",
       "      <th>CLASS</th>\n",
       "    </tr>\n",
       "  </thead>\n",
       "  <tbody>\n",
       "    <tr>\n",
       "      <th>0</th>\n",
       "      <td>101</td>\n",
       "      <td>3</td>\n",
       "      <td>1</td>\n",
       "      <td>1</td>\n",
       "      <td>4</td>\n",
       "      <td>8</td>\n",
       "      <td>4</td>\n",
       "      <td>5</td>\n",
       "      <td>0</td>\n",
       "      <td>2</td>\n",
       "      <td>2</td>\n",
       "    </tr>\n",
       "    <tr>\n",
       "      <th>1</th>\n",
       "      <td>104</td>\n",
       "      <td>9</td>\n",
       "      <td>7</td>\n",
       "      <td>1</td>\n",
       "      <td>0</td>\n",
       "      <td>0</td>\n",
       "      <td>1</td>\n",
       "      <td>9</td>\n",
       "      <td>0</td>\n",
       "      <td>0</td>\n",
       "      <td>2</td>\n",
       "    </tr>\n",
       "    <tr>\n",
       "      <th>2</th>\n",
       "      <td>44</td>\n",
       "      <td>9</td>\n",
       "      <td>6</td>\n",
       "      <td>7</td>\n",
       "      <td>0</td>\n",
       "      <td>1</td>\n",
       "      <td>2</td>\n",
       "      <td>8</td>\n",
       "      <td>0</td>\n",
       "      <td>0</td>\n",
       "      <td>1</td>\n",
       "    </tr>\n",
       "    <tr>\n",
       "      <th>3</th>\n",
       "      <td>17</td>\n",
       "      <td>5</td>\n",
       "      <td>0</td>\n",
       "      <td>6</td>\n",
       "      <td>1</td>\n",
       "      <td>7</td>\n",
       "      <td>6</td>\n",
       "      <td>5</td>\n",
       "      <td>0</td>\n",
       "      <td>0</td>\n",
       "      <td>1</td>\n",
       "    </tr>\n",
       "    <tr>\n",
       "      <th>4</th>\n",
       "      <td>81</td>\n",
       "      <td>1</td>\n",
       "      <td>1</td>\n",
       "      <td>4</td>\n",
       "      <td>9</td>\n",
       "      <td>3</td>\n",
       "      <td>8</td>\n",
       "      <td>0</td>\n",
       "      <td>0</td>\n",
       "      <td>0</td>\n",
       "      <td>2</td>\n",
       "    </tr>\n",
       "    <tr>\n",
       "      <th>...</th>\n",
       "      <td>...</td>\n",
       "      <td>...</td>\n",
       "      <td>...</td>\n",
       "      <td>...</td>\n",
       "      <td>...</td>\n",
       "      <td>...</td>\n",
       "      <td>...</td>\n",
       "      <td>...</td>\n",
       "      <td>...</td>\n",
       "      <td>...</td>\n",
       "      <td>...</td>\n",
       "    </tr>\n",
       "    <tr>\n",
       "      <th>102</th>\n",
       "      <td>80</td>\n",
       "      <td>1</td>\n",
       "      <td>1</td>\n",
       "      <td>4</td>\n",
       "      <td>8</td>\n",
       "      <td>5</td>\n",
       "      <td>8</td>\n",
       "      <td>0</td>\n",
       "      <td>0</td>\n",
       "      <td>0</td>\n",
       "      <td>2</td>\n",
       "    </tr>\n",
       "    <tr>\n",
       "      <th>103</th>\n",
       "      <td>141</td>\n",
       "      <td>4</td>\n",
       "      <td>4</td>\n",
       "      <td>4</td>\n",
       "      <td>6</td>\n",
       "      <td>3</td>\n",
       "      <td>8</td>\n",
       "      <td>1</td>\n",
       "      <td>0</td>\n",
       "      <td>0</td>\n",
       "      <td>2</td>\n",
       "    </tr>\n",
       "    <tr>\n",
       "      <th>104</th>\n",
       "      <td>14</td>\n",
       "      <td>4</td>\n",
       "      <td>1</td>\n",
       "      <td>5</td>\n",
       "      <td>3</td>\n",
       "      <td>8</td>\n",
       "      <td>3</td>\n",
       "      <td>3</td>\n",
       "      <td>0</td>\n",
       "      <td>2</td>\n",
       "      <td>1</td>\n",
       "    </tr>\n",
       "    <tr>\n",
       "      <th>105</th>\n",
       "      <td>132</td>\n",
       "      <td>9</td>\n",
       "      <td>6</td>\n",
       "      <td>0</td>\n",
       "      <td>4</td>\n",
       "      <td>0</td>\n",
       "      <td>2</td>\n",
       "      <td>9</td>\n",
       "      <td>0</td>\n",
       "      <td>1</td>\n",
       "      <td>2</td>\n",
       "    </tr>\n",
       "    <tr>\n",
       "      <th>106</th>\n",
       "      <td>102</td>\n",
       "      <td>4</td>\n",
       "      <td>0</td>\n",
       "      <td>1</td>\n",
       "      <td>7</td>\n",
       "      <td>5</td>\n",
       "      <td>8</td>\n",
       "      <td>7</td>\n",
       "      <td>0</td>\n",
       "      <td>0</td>\n",
       "      <td>2</td>\n",
       "    </tr>\n",
       "  </tbody>\n",
       "</table>\n",
       "<p>107 rows × 11 columns</p>\n",
       "</div>"
      ],
      "text/plain": [
       "      ID RI Na Mg Al Si  K Ca Ba Fe CLASS\n",
       "0    101  3  1  1  4  8  4  5  0  2     2\n",
       "1    104  9  7  1  0  0  1  9  0  0     2\n",
       "2     44  9  6  7  0  1  2  8  0  0     1\n",
       "3     17  5  0  6  1  7  6  5  0  0     1\n",
       "4     81  1  1  4  9  3  8  0  0  0     2\n",
       "..   ... .. .. .. .. .. .. .. .. ..   ...\n",
       "102   80  1  1  4  8  5  8  0  0  0     2\n",
       "103  141  4  4  4  6  3  8  1  0  0     2\n",
       "104   14  4  1  5  3  8  3  3  0  2     1\n",
       "105  132  9  6  0  4  0  2  9  0  1     2\n",
       "106  102  4  0  1  7  5  8  7  0  0     2\n",
       "\n",
       "[107 rows x 11 columns]"
      ]
     },
     "metadata": {
      "tags": []
     },
     "output_type": "display_data"
    }
   ],
   "source": [
    "# Test your code  (leave this part unchanged)\n",
    "\n",
    "glass_train_df = pd.read_csv(\"glass_train.csv\")\n",
    "\n",
    "glass_test_df = pd.read_csv(\"glass_test.csv\")\n",
    "\n",
    "glass_train_disc, binning = create_bins(glass_train_df,nobins=10,bintype=\"equal-size\")\n",
    "print(\"binning:\")\n",
    "for f in binning:\n",
    "    print(\"{}:{}\".format(f,binning[f]))\n",
    "\n",
    "print()    \n",
    "glass_test_disc = apply_bins(glass_test_df,binning)\n",
    "display(\"glass_test_disc\",glass_test_disc)"
   ]
  },
  {
   "cell_type": "markdown",
   "metadata": {
    "id": "tp4jbuWlRKA4"
   },
   "source": [
    "### Comment on assumptions, things that do not work properly, etc."
   ]
  },
  {
   "cell_type": "markdown",
   "metadata": {
    "id": "jA2qES1DRKA4"
   },
   "source": [
    "## 1e. Create and apply one-hot encoding"
   ]
  },
  {
   "cell_type": "code",
   "execution_count": 80,
   "metadata": {
    "id": "cFxF4TPMRKA5"
   },
   "outputs": [],
   "source": [
    "# Insert the functions create_one_hot and apply_one_hot below\n",
    "#\n",
    "# Input to create_one_hot:\n",
    "# df: a dataframe\n",
    "#\n",
    "# Output from create_one_hot:\n",
    "# df      - a new dataframe, where each categoric feature has been replaced by a set of binary features \n",
    "#           (as many new features as there are possible values)\n",
    "# one_hot - a mapping (dictionary) from column name to a set of categories (possible values for the feature)\n",
    "def create_one_hot(df):\n",
    "    to_rtn = df\n",
    "    for col in [el for el in to_rtn.columns if el not in ['CLASS', 'ID']]:\n",
    "        if to_rtn[col].dtype == 'category' or to_rtn[col].dtype == 'object':\n",
    "            print(pd.get_dummies(to_rtn[col]))\n",
    "            \n",
    "#\n",
    "# Hint 1: First copy the input dataframe and modify the copy (the input dataframe should be kept unchanged)\n",
    "#\n",
    "# Hint 2: Consider columns of type \"object\" or \"category\" only (and which are not labeled \"CLASS\" or \"ID\")\n",
    "#\n",
    "# Hint 3: Consider creating new column names by merging the original column name and the categorical value\n",
    "#\n",
    "# Hint 4: Set all new columns to be of type \"float\"\n",
    "#\n",
    "# Hint 5: Do not forget to remove the original categoric feature\n",
    "#\n",
    "# Input to apply_one_hot:\n",
    "# df      - a dataframe\n",
    "# one_hot - a mapping (dictionary) from column name to categories\n",
    "#\n",
    "# Output from apply_one_hot:\n",
    "# df - a new dataframe, where each categoric feature has been replaced by a set of binary features\n",
    "#\n",
    "# Hint: See the above Hints\n",
    "\n"
   ]
  },
  {
   "cell_type": "code",
   "execution_count": 82,
   "metadata": {
    "id": "0UCIGrHXRKA7",
    "outputId": "ad19995a-3b61-490c-880c-b00e4c8c8043"
   },
   "outputs": [
    {
     "ename": "TypeError",
     "evalue": "data type \"category\" not understood",
     "output_type": "error",
     "traceback": [
      "\u001b[0;31m---------------------------------------------------------------------------\u001b[0m",
      "\u001b[0;31mTypeError\u001b[0m                                 Traceback (most recent call last)",
      "\u001b[0;32m<ipython-input-82-57f73f94d3da>\u001b[0m in \u001b[0;36m<module>\u001b[0;34m\u001b[0m\n\u001b[1;32m      3\u001b[0m \u001b[0mtrain_df\u001b[0m \u001b[0;34m=\u001b[0m \u001b[0mpd\u001b[0m\u001b[0;34m.\u001b[0m\u001b[0mread_csv\u001b[0m\u001b[0;34m(\u001b[0m\u001b[0;34m\"tic-tac-toe_train.csv\"\u001b[0m\u001b[0;34m)\u001b[0m\u001b[0;34m\u001b[0m\u001b[0;34m\u001b[0m\u001b[0m\n\u001b[1;32m      4\u001b[0m \u001b[0;34m\u001b[0m\u001b[0m\n\u001b[0;32m----> 5\u001b[0;31m \u001b[0mnew_train\u001b[0m\u001b[0;34m,\u001b[0m \u001b[0mone_hot\u001b[0m \u001b[0;34m=\u001b[0m \u001b[0mcreate_one_hot\u001b[0m\u001b[0;34m(\u001b[0m\u001b[0mtrain_df\u001b[0m\u001b[0;34m)\u001b[0m\u001b[0;34m\u001b[0m\u001b[0;34m\u001b[0m\u001b[0m\n\u001b[0m\u001b[1;32m      6\u001b[0m \u001b[0;34m\u001b[0m\u001b[0m\n\u001b[1;32m      7\u001b[0m \u001b[0mtest_df\u001b[0m \u001b[0;34m=\u001b[0m \u001b[0mpd\u001b[0m\u001b[0;34m.\u001b[0m\u001b[0mread_csv\u001b[0m\u001b[0;34m(\u001b[0m\u001b[0;34m\"tic-tac-toe_test.csv\"\u001b[0m\u001b[0;34m)\u001b[0m\u001b[0;34m\u001b[0m\u001b[0;34m\u001b[0m\u001b[0m\n",
      "\u001b[0;32m<ipython-input-80-db32048777b6>\u001b[0m in \u001b[0;36mcreate_one_hot\u001b[0;34m(df)\u001b[0m\n\u001b[1;32m     11\u001b[0m     \u001b[0mto_rtn\u001b[0m \u001b[0;34m=\u001b[0m \u001b[0mdf\u001b[0m\u001b[0;34m\u001b[0m\u001b[0;34m\u001b[0m\u001b[0m\n\u001b[1;32m     12\u001b[0m     \u001b[0;32mfor\u001b[0m \u001b[0mcol\u001b[0m \u001b[0;32min\u001b[0m \u001b[0;34m[\u001b[0m\u001b[0mel\u001b[0m \u001b[0;32mfor\u001b[0m \u001b[0mel\u001b[0m \u001b[0;32min\u001b[0m \u001b[0mto_rtn\u001b[0m\u001b[0;34m.\u001b[0m\u001b[0mcolumns\u001b[0m \u001b[0;32mif\u001b[0m \u001b[0mel\u001b[0m \u001b[0;32mnot\u001b[0m \u001b[0;32min\u001b[0m \u001b[0;34m[\u001b[0m\u001b[0;34m'CLASS'\u001b[0m\u001b[0;34m,\u001b[0m \u001b[0;34m'ID'\u001b[0m\u001b[0;34m]\u001b[0m\u001b[0;34m]\u001b[0m\u001b[0;34m:\u001b[0m\u001b[0;34m\u001b[0m\u001b[0;34m\u001b[0m\u001b[0m\n\u001b[0;32m---> 13\u001b[0;31m         \u001b[0;32mif\u001b[0m \u001b[0mto_rtn\u001b[0m\u001b[0;34m[\u001b[0m\u001b[0mcol\u001b[0m\u001b[0;34m]\u001b[0m\u001b[0;34m.\u001b[0m\u001b[0mdtype\u001b[0m \u001b[0;34m==\u001b[0m \u001b[0;34m'category'\u001b[0m \u001b[0;32mor\u001b[0m \u001b[0mto_rtn\u001b[0m\u001b[0;34m[\u001b[0m\u001b[0mcol\u001b[0m\u001b[0;34m]\u001b[0m\u001b[0;34m.\u001b[0m\u001b[0mdtype\u001b[0m \u001b[0;34m==\u001b[0m \u001b[0;34m'object'\u001b[0m\u001b[0;34m:\u001b[0m\u001b[0;34m\u001b[0m\u001b[0;34m\u001b[0m\u001b[0m\n\u001b[0m\u001b[1;32m     14\u001b[0m             \u001b[0mprint\u001b[0m\u001b[0;34m(\u001b[0m\u001b[0mpd\u001b[0m\u001b[0;34m.\u001b[0m\u001b[0mget_dummies\u001b[0m\u001b[0;34m(\u001b[0m\u001b[0mto_rtn\u001b[0m\u001b[0;34m[\u001b[0m\u001b[0mcol\u001b[0m\u001b[0;34m]\u001b[0m\u001b[0;34m)\u001b[0m\u001b[0;34m)\u001b[0m\u001b[0;34m\u001b[0m\u001b[0;34m\u001b[0m\u001b[0m\n\u001b[1;32m     15\u001b[0m \u001b[0;34m\u001b[0m\u001b[0m\n",
      "\u001b[0;31mTypeError\u001b[0m: data type \"category\" not understood"
     ]
    }
   ],
   "source": [
    "# Test your code  (leave this part unchanged)\n",
    "\n",
    "train_df = pd.read_csv(\"tic-tac-toe_train.csv\")\n",
    "\n",
    "new_train, one_hot = create_one_hot(train_df)\n",
    "\n",
    "test_df = pd.read_csv(\"tic-tac-toe_test.csv\")\n",
    "\n",
    "new_test_df = apply_one_hot(test_df,one_hot)\n",
    "display(\"new_test_df\",new_test_df)"
   ]
  },
  {
   "cell_type": "markdown",
   "metadata": {
    "id": "5VrU74hkRKA9"
   },
   "source": [
    "### Comment on assumptions, things that do not work properly, etc."
   ]
  },
  {
   "cell_type": "markdown",
   "metadata": {
    "id": "-XMvvODcRKA9"
   },
   "source": [
    "## 1f. Divide a dataset into a training and a test set"
   ]
  },
  {
   "cell_type": "code",
   "execution_count": null,
   "metadata": {
    "id": "oweyCEaZRKA-"
   },
   "outputs": [],
   "source": [
    "# Insert the function split below\n",
    "#\n",
    "# Input to split:\n",
    "# df           - a dataframe\n",
    "# testfraction - a float in the range (0,1) (default = 0.5)\n",
    "#\n",
    "# Output from split:\n",
    "# trainingdf - a dataframe consisting of a random sample of (1-testfraction) of the rows in df\n",
    "# testdf     - a dataframe consisting of the rows in df that are not included in trainingdf\n",
    "#\n",
    "# Hint: You may use np.random.permutation(df.index) to get a permuted list of indexes where a \n",
    "#       prefix corresponds to the test instances, and the suffix to the training instances \n",
    "\n"
   ]
  },
  {
   "cell_type": "code",
   "execution_count": null,
   "metadata": {
    "id": "VPCQz19XRKBA",
    "outputId": "1b0a5cda-9cc7-4549-959d-6335c60fbf31"
   },
   "outputs": [
    {
     "name": "stdout",
     "output_type": "stream",
     "text": [
      "Training IDs:\n",
      "[  8   7 196 188 102  64 213  35 197  46  98 189 190  24 209   5 109 101\n",
      " 186  74 170 136 145  41  40  77  52 147  94  61 105 152 175  43 144  37\n",
      "  85  57  32 171 154  58  14 210 193  54   9 127 159  10  50 162 205 184\n",
      " 113  29 116  70 182 156 142  66 207  21  20  71 141 107  83 206 212  89\n",
      " 187 172  27  30 169 124  67  18  12 143  55  56 135  47  79 191 125 201\n",
      "  80 121  28  26   4 181  49 115 204 130 192   3 114 137  13 129 134  34\n",
      " 176  86  78  96 146  17  65  11 128 139  68 104 148 203  53  59 117 174\n",
      " 166 112 108 149  90  76 161  44  22 164 185 155  93  63  75 177 199  87\n",
      " 126  15  16 160 123  38  82 110 118 200 140  97 180  51 173 100]\n",
      "\n",
      "Test IDs:\n",
      "[153  91  88  25  73  72 133 132  81 214 178  42  36 167 103 151 158  39\n",
      " 208 179 131  23 165 195 111  60  69 202  95 119 168  31   2 122 183  99\n",
      " 138 150  33 211  84 120   1 163  92   6 198  48 194  45  19  62 106 157]\n",
      "\n",
      "Overlap: set()\n"
     ]
    }
   ],
   "source": [
    "# Test your code  (leave this part unchanged)\n",
    "\n",
    "glass_df = pd.read_csv(\"glass.csv\")\n",
    "\n",
    "glass_train, glass_test = split(glass_df,testfraction=0.25)\n",
    "\n",
    "print(\"Training IDs:\\n{}\".format(glass_train[\"ID\"].values))\n",
    "\n",
    "print(\"\\nTest IDs:\\n{}\".format(glass_test[\"ID\"].values))\n",
    "\n",
    "print(\"\\nOverlap: {}\".format(set(glass_train[\"ID\"]).intersection(set(glass_test[\"ID\"]))))"
   ]
  },
  {
   "cell_type": "markdown",
   "metadata": {
    "id": "F9uPSS0tRKBC"
   },
   "source": [
    "### Comment on assumptions, things that do not work properly, etc."
   ]
  },
  {
   "cell_type": "markdown",
   "metadata": {
    "id": "ylO00E-xRKBC"
   },
   "source": [
    "## 1g. Calculate accuracy of a set of predictions"
   ]
  },
  {
   "cell_type": "code",
   "execution_count": null,
   "metadata": {
    "id": "1Ew2WlvYRKBD"
   },
   "outputs": [],
   "source": [
    "# Insert the function accuracy below\n",
    "#\n",
    "# Input to accuracy:\n",
    "# df            - a dataframe with class labels as column names and each row corresponding to\n",
    "#                 a prediction with estimated probabilities for each class\n",
    "# correctlabels - an array (or list) of the correct class label for each prediction\n",
    "#                 (the number of correct labels must equal the number of rows in df)\n",
    "#\n",
    "# Output from accuracy:\n",
    "# accuracy - the fraction of cases for which the predicted class label coincides with the correct label\n",
    "#\n",
    "# Hint: In case the label receiving the highest probability is not unique, you may\n",
    "#       resolve that by picking the first (as ordered by the column names) or \n",
    "#       by randomly selecting one of the labels with highest probaility.\n",
    "\n"
   ]
  },
  {
   "cell_type": "code",
   "execution_count": null,
   "metadata": {
    "id": "Ri2gSwzoRKBF",
    "outputId": "8dcde546-631f-4be1-e318-a210a021909f"
   },
   "outputs": [
    {
     "data": {
      "text/plain": [
       "'predictions'"
      ]
     },
     "metadata": {
      "tags": []
     },
     "output_type": "display_data"
    },
    {
     "data": {
      "text/html": [
       "<div>\n",
       "<style scoped>\n",
       "    .dataframe tbody tr th:only-of-type {\n",
       "        vertical-align: middle;\n",
       "    }\n",
       "\n",
       "    .dataframe tbody tr th {\n",
       "        vertical-align: top;\n",
       "    }\n",
       "\n",
       "    .dataframe thead th {\n",
       "        text-align: right;\n",
       "    }\n",
       "</style>\n",
       "<table border=\"1\" class=\"dataframe\">\n",
       "  <thead>\n",
       "    <tr style=\"text-align: right;\">\n",
       "      <th></th>\n",
       "      <th>A</th>\n",
       "      <th>B</th>\n",
       "      <th>C</th>\n",
       "    </tr>\n",
       "  </thead>\n",
       "  <tbody>\n",
       "    <tr>\n",
       "      <th>0</th>\n",
       "      <td>0.50</td>\n",
       "      <td>0.50</td>\n",
       "      <td>0.00</td>\n",
       "    </tr>\n",
       "    <tr>\n",
       "      <th>1</th>\n",
       "      <td>0.50</td>\n",
       "      <td>0.25</td>\n",
       "      <td>0.25</td>\n",
       "    </tr>\n",
       "    <tr>\n",
       "      <th>2</th>\n",
       "      <td>0.50</td>\n",
       "      <td>0.25</td>\n",
       "      <td>0.25</td>\n",
       "    </tr>\n",
       "    <tr>\n",
       "      <th>3</th>\n",
       "      <td>0.25</td>\n",
       "      <td>0.50</td>\n",
       "      <td>0.25</td>\n",
       "    </tr>\n",
       "    <tr>\n",
       "      <th>4</th>\n",
       "      <td>0.25</td>\n",
       "      <td>0.25</td>\n",
       "      <td>0.50</td>\n",
       "    </tr>\n",
       "  </tbody>\n",
       "</table>\n",
       "</div>"
      ],
      "text/plain": [
       "      A     B     C\n",
       "0  0.50  0.50  0.00\n",
       "1  0.50  0.25  0.25\n",
       "2  0.50  0.25  0.25\n",
       "3  0.25  0.50  0.25\n",
       "4  0.25  0.25  0.50"
      ]
     },
     "metadata": {
      "tags": []
     },
     "output_type": "display_data"
    }
   ],
   "source": [
    "# Test your code  (leave this part unchanged)\n",
    "\n",
    "predictions = pd.DataFrame({\"A\":[0.5,0.5,0.5,0.25,0.25],\"B\":[0.5,0.25,0.25,0.5,0.25],\"C\":[0.0,0.25,0.25,0.25,0.5]})\n",
    "display(\"predictions\",predictions)"
   ]
  },
  {
   "cell_type": "code",
   "execution_count": null,
   "metadata": {
    "id": "Hc2r9Y24RKBI",
    "outputId": "0bdc1b1a-49bc-4682-eed6-5b7ad594f449"
   },
   "outputs": [
    {
     "name": "stdout",
     "output_type": "stream",
     "text": [
      "Accuracy: 0.6\n"
     ]
    }
   ],
   "source": [
    "correctlabels = [\"B\",\"A\",\"B\",\"B\",\"C\"]\n",
    "\n",
    "print(\"Accuracy: {}\".format(accuracy(predictions,correctlabels))) # Note that depending on how ties are resolved the accuracy may be 0.6 or 0.8"
   ]
  },
  {
   "cell_type": "markdown",
   "metadata": {
    "id": "mBrA-XnLRKBK"
   },
   "source": [
    "### Comment on assumptions, things that do not work properly, etc."
   ]
  },
  {
   "cell_type": "markdown",
   "metadata": {
    "id": "eWxgUoP8RKBK"
   },
   "source": [
    "## 2a. Divide a dataset into a number of folds"
   ]
  },
  {
   "cell_type": "code",
   "execution_count": null,
   "metadata": {
    "id": "08mUnmrDRKBL"
   },
   "outputs": [],
   "source": [
    "# Insert the function folds below\n",
    "#\n",
    "# Input to folds:\n",
    "# df      - a dataframe\n",
    "# nofolds - an integer greater than 1 (default = 10)\n",
    "#\n",
    "# Output from folds:\n",
    "# folds - a list (of length = nofolds) dataframes consisting of random non-overlapping, \n",
    "#         approximately equal-sized subsets of the rows in df\n",
    "#\n",
    "# Hint: You may use np.random.permutation(df.index) to get a permuted list of indexes from which a \n",
    "#       prefix corresponds to the test instances, and the suffix to the training instances \n",
    "\n"
   ]
  },
  {
   "cell_type": "code",
   "execution_count": null,
   "metadata": {
    "id": "msvNSPW9RKBN",
    "outputId": "4aedb607-a645-4a1a-86e5-216500a83483"
   },
   "outputs": [
    {
     "name": "stdout",
     "output_type": "stream",
     "text": [
      "Fold sizes:[43, 43, 43, 43, 42]\n",
      "Total no. instances: 214\n"
     ]
    }
   ],
   "source": [
    "# Test your code  (leave this part unchanged)\n",
    "\n",
    "glass_df = pd.read_csv(\"glass.csv\")\n",
    "\n",
    "glass_folds = folds(glass_df,nofolds=5)\n",
    "\n",
    "fold_sizes = [len(f) for f in glass_folds]\n",
    "\n",
    "print(\"Fold sizes:{}\\nTotal no. instances: {}\".format(fold_sizes,sum(fold_sizes)))"
   ]
  },
  {
   "cell_type": "markdown",
   "metadata": {
    "id": "7ikT2pD0RKBP"
   },
   "source": [
    "### Comment on assumptions, things that do not work properly, etc."
   ]
  },
  {
   "cell_type": "markdown",
   "metadata": {
    "id": "_azq1qHQRKBP"
   },
   "source": [
    "## 2b. Calculate Brier score of a set of predictions"
   ]
  },
  {
   "cell_type": "code",
   "execution_count": null,
   "metadata": {
    "id": "YIIq_F8BRKBP"
   },
   "outputs": [],
   "source": [
    "# Insert the function brier_score below\n",
    "#\n",
    "# Input to brier_score:\n",
    "# df            - a dataframe with class labels as column names and each row corresponding to\n",
    "#                 a prediction with estimated probabilities for each class\n",
    "# correctlabels - an array (or list) of the correct class label for each prediction\n",
    "#                 (the number of correct labels must equal the number of rows in df)\n",
    "#\n",
    "# Output from brier_score:\n",
    "# brier_score - the average square error of the predicted probabilties \n",
    "#\n",
    "# Hint: Compare each predicted vector to a vector for each correct label, which is all zeros except \n",
    "#       for at the index of the correct class. The index can be found using np.where(df.columns==l)[0] \n",
    "#       where l is the correct label.\n",
    "\n"
   ]
  },
  {
   "cell_type": "code",
   "execution_count": null,
   "metadata": {
    "id": "6j3arYBjRKBR",
    "outputId": "8827dfaa-eb66-4b24-d0b0-edf5fb688d66"
   },
   "outputs": [
    {
     "name": "stdout",
     "output_type": "stream",
     "text": [
      "Brier score: 0.5\n"
     ]
    }
   ],
   "source": [
    "# Test your code  (leave this part unchanged)\n",
    "\n",
    "predictions = pd.DataFrame({\"A\":[0.5,0.5,0.5,0.25,0.25],\"B\":[0.5,0.25,0.25,0.5,0.25],\"C\":[0.0,0.25,0.25,0.25,0.5]})\n",
    "\n",
    "correctlabels = [\"B\",\"A\",\"B\",\"B\",\"C\"]\n",
    "\n",
    "print(\"Brier score: {}\".format(brier_score(predictions,correctlabels)))"
   ]
  },
  {
   "cell_type": "markdown",
   "metadata": {
    "id": "cFG1A9dlRKBT"
   },
   "source": [
    "### Comment on assumptions, things that do not work properly, etc."
   ]
  },
  {
   "cell_type": "markdown",
   "metadata": {
    "id": "4zx7eO_kRKBU"
   },
   "source": [
    "## 2c. Calculate AUC of a set of predictions"
   ]
  },
  {
   "cell_type": "code",
   "execution_count": null,
   "metadata": {
    "id": "TvE1asLHRKBU"
   },
   "outputs": [],
   "source": [
    "# Insert the function auc below\n",
    "#\n",
    "# Input to auc:\n",
    "# df            - a dataframe with class labels as column names and each row corresponding to\n",
    "#                 a prediction with estimated probabilities for each class\n",
    "# correctlabels - an array (or list) of the correct class label for each prediction\n",
    "#                 (the number of correct labels must equal the number of rows in df)\n",
    "#\n",
    "# Output from auc:\n",
    "# auc - the weighted area under ROC curve\n",
    "#\n",
    "# Hint 1: Calculate the binary AUC first for each class label c, i.e., treating the\n",
    "#         predicted probability of this class for each instance as a score; the true positives\n",
    "#         are the ones belonging to class c and the false positives the rest\n",
    "#\n",
    "# Hint 2: When calculating the binary AUC, first find the scores of the true positives and then\n",
    "#         the scores of the true negatives\n",
    "#\n",
    "# Hint 3: You may use a dictionary with a mapping from each score to an array of two numbers; \n",
    "#         the number of true positives with this score and the number of true negatives with this score\n",
    "#\n",
    "# Hint 4: Created a (reversely) sorted (on the scores) list of pairs from the dictionary and\n",
    "#         iterate over this to additively calculate the AUC\n",
    "#\n",
    "# Hint 5: For each pair in the above list, there are three cases to consider; the no. of false positives\n",
    "#         is zero, the no. of true positives is zero, and both are non-zero\n",
    "#\n",
    "# Hint 6: Calculate the weighted AUC by summing the individual AUCs weighted by the relative\n",
    "#         frequency of each class (as estimated from the correct labels)\n",
    "\n"
   ]
  },
  {
   "cell_type": "code",
   "execution_count": null,
   "metadata": {
    "id": "hRzkctygRKBX",
    "outputId": "cc71468a-8c85-4264-dde1-6b730edc4d67"
   },
   "outputs": [
    {
     "name": "stdout",
     "output_type": "stream",
     "text": [
      "AUC: 0.375\n"
     ]
    }
   ],
   "source": [
    "# Test your code  (leave this part unchanged)\n",
    "\n",
    "predictions = pd.DataFrame({\"A\":[0.9,0.9,0.6,0.55],\"B\":[0.1,0.1,0.4,0.45]})\n",
    "\n",
    "correctlabels = [\"A\",\"B\",\"B\",\"A\"]\n",
    "\n",
    "print(\"AUC: {}\".format(auc(predictions,correctlabels)))"
   ]
  },
  {
   "cell_type": "code",
   "execution_count": null,
   "metadata": {
    "id": "MhW-uJnmRKBZ",
    "outputId": "68d87c81-9451-403f-a4fa-858838249310"
   },
   "outputs": [
    {
     "name": "stdout",
     "output_type": "stream",
     "text": [
      "AUC: 0.8499999999999999\n"
     ]
    }
   ],
   "source": [
    "predictions = pd.DataFrame({\"A\":[0.5,0.5,0.5,0.25,0.25],\"B\":[0.5,0.25,0.25,0.5,0.25],\"C\":[0.0,0.25,0.25,0.25,0.5]})\n",
    "\n",
    "correctlabels = [\"B\",\"A\",\"B\",\"B\",\"C\"]\n",
    "\n",
    "print(\"AUC: {}\".format(auc(predictions,correctlabels)))"
   ]
  },
  {
   "cell_type": "markdown",
   "metadata": {
    "id": "2WHGsu01RKBb"
   },
   "source": [
    "### Comment on assumptions, things that do not work properly, etc."
   ]
  }
 ],
 "metadata": {
  "colab": {
   "name": "Assignment 1.ipynb",
   "provenance": []
  },
  "kernelspec": {
   "display_name": "Python 3",
   "language": "python",
   "name": "python3"
  },
  "language_info": {
   "codemirror_mode": {
    "name": "ipython",
    "version": 3
   },
   "file_extension": ".py",
   "mimetype": "text/x-python",
   "name": "python",
   "nbconvert_exporter": "python",
   "pygments_lexer": "ipython3",
   "version": "3.8.3"
  }
 },
 "nbformat": 4,
 "nbformat_minor": 4
}
