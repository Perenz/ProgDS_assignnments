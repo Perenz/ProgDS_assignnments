{
 "metadata": {
  "language_info": {
   "codemirror_mode": {
    "name": "ipython",
    "version": 3
   },
   "file_extension": ".py",
   "mimetype": "text/x-python",
   "name": "python",
   "nbconvert_exporter": "python",
   "pygments_lexer": "ipython3",
   "version": "3.8.3-final"
  },
  "orig_nbformat": 2,
  "kernelspec": {
   "name": "python_defaultSpec_1606924911194",
   "display_name": "Python 3.8.3 64-bit ('base': conda)"
  }
 },
 "nbformat": 4,
 "nbformat_minor": 2,
 "cells": [
  {
   "cell_type": "code",
   "execution_count": 42,
   "metadata": {},
   "outputs": [],
   "source": [
    "from rdkit import Chem\n",
    "import pandas as pd\n",
    "import numpy as np\n",
    "import rdkit.Chem.rdMolDescriptors as d\n",
    "from sklearn.model_selection import train_test_split\n",
    "from rdkit.Chem import AllChem\n",
    "import rdkit.Chem.Fragments as f\n",
    "from rdkit.Chem import Lipinski as l\n",
    "import inspect\n",
    "\n",
    "np.set_printoptions(threshold=sys.maxsize)\n"
   ]
  },
  {
   "cell_type": "code",
   "execution_count": 35,
   "metadata": {},
   "outputs": [],
   "source": [
    "start_train_df = pd.read_csv(\"training_smiles.csv\")\n",
    "start_test_df = pd.read_csv(\"test_smiles.csv\")"
   ]
  },
  {
   "cell_type": "code",
   "execution_count": 36,
   "metadata": {
    "tags": []
   },
   "outputs": [
    {
     "output_type": "stream",
     "name": "stdout",
     "text": "Index(['INDEX', 'SMILES', 'ACTIVE'], dtype='object')\n   INDEX                                             SMILES  ACTIVE\n0      1                        CC#CCCCC(=O)Nc1ccccc1C(=O)O     0.0\n1      2  [O-][Cl+3]([O-])([O-])[O-].c1ccc(-c2[nH]c[n+](...     0.0\n2      3   CCOC(=O)CSc1nnc(NC(=O)c2cccc([N+](=O)[O-])c2C)s1     0.0\n3      4  O=C(CN1CCN(S(=O)(=O)c2ccccc2)CC1)Nc1ccc(Cl)c(C...     0.0\n4      5         Cc1cc(NN/C=C2\\C=CC(=O)C=C2O)nc(N2CCOCC2)n1     0.0\n"
    }
   ],
   "source": [
    "print(start_train_df.columns)\n",
    "print(start_train_df.head())"
   ]
  },
  {
   "cell_type": "code",
   "execution_count": 37,
   "metadata": {
    "tags": []
   },
   "outputs": [
    {
     "output_type": "stream",
     "name": "stdout",
     "text": "18\n"
    }
   ],
   "source": [
    "ex = start_train_df.iloc[0,:]\n",
    "m_ex = Chem.MolFromSmiles(ex['SMILES'])\n",
    "\n",
    "print(m_ex.GetNumAtoms())\n"
   ]
  },
  {
   "cell_type": "code",
   "execution_count": 45,
   "metadata": {
    "tags": []
   },
   "outputs": [],
   "source": [
    "lip_features = inspect.getmembers(l, inspect.isfunction)\n",
    "#desc_features = inspect.getmembers(d, inspect.isfunction)\n",
    "frag_features = inspect.getmembers(f, inspect.isfunction)\n",
    "\n",
    "\n",
    "def add_features(dataset, type='train'):\n",
    "    #Iterate rows, create a new dataset\n",
    "    dict_df = []\n",
    "    tmp_dict = {}\n",
    "    for i in range(len(dataset)): #len(dataset)\n",
    "        tmp_dict = {}\n",
    "        #Make a list of dictionaries\n",
    "        row = dataset.iloc[i,:]\n",
    "\n",
    "        \n",
    "        tmp_dict['INDEX'] = row['INDEX']\n",
    "        if type != 'test':\n",
    "            tmp_dict['ACTIVE'] = row['ACTIVE']\n",
    "        tmp_dict['SMILES'] = row['SMILES']\n",
    "\n",
    "        m_row = Chem.MolFromSmiles(row['SMILES'])\n",
    "        tmp_dict['num_atoms'] = m_row.GetNumAtoms()\n",
    "        tmp_dict['mol_wt'] = d.CalcExactMolWt(m_row)\n",
    "\n",
    "        #generate fingerprints: Morgan fingerprint, radius 2\n",
    "        nBits = 124\n",
    "        fp = AllChem.GetMorganFingerprintAsBitVect(m_row,2,nBits=nBits)\n",
    "        fp_a = np.array(fp)\n",
    "        for k in range(nBits):\n",
    "            tmp_dict['mf_'+str(k)] = fp_a[k]\n",
    "\n",
    "        #Get all fragment features\n",
    "        for k in range(len(frag_features)):\n",
    "\n",
    "            #exclude attributes that start with _ \n",
    "            if frag_features[k][0].startswith('_') == False:\n",
    "                #Apply every function to the m_row\n",
    "                feat = frag_features[k][1](m_row)\n",
    "\n",
    "                #Add it to the dict\n",
    "                tmp_dict[frag_features[k][0]] = feat\n",
    "\n",
    "        #Get all lipinski\n",
    "        for k in range(len(lip_features)):\n",
    "\n",
    "            #exclude attributes that start with _ \n",
    "            if lip_features[k][0].startswith('_') == False:\n",
    "                #Apply every function to the m_row\n",
    "                feat = lip_features[k][1](m_row)\n",
    "\n",
    "                #Add it to the dict\n",
    "                tmp_dict['lp_' + str(lip_features[k][0])] = feat\n",
    "\n",
    "        #Get char count\n",
    "        smile_str = row['SMILES']\n",
    "        char_dict = {e:smile_str.count(e) for e in set(smile_str)}\n",
    "        #print(char_dict)\n",
    "\n",
    "        chars = ['C','B', 'S', 'P', 'N', 'I', 'O']\n",
    "        for c in chars:\n",
    "            tmp_dict[c] = char_dict.get(c, 0)\n",
    "        \n",
    "        #Add Cl, Br, OH\n",
    "        tmp_dict['Cl'] = smile_str.count('Cl')\n",
    "        tmp_dict['Br'] = smile_str.count('Br')\n",
    "        tmp_dict['OH'] = smile_str.count('OH')\n",
    "        tmp_dict['smile_length'] = len(smile_str)\n",
    "\n",
    "\n",
    "        dict_df.append(tmp_dict)\n",
    "        #print(tmp_dict)\n",
    "        if i%1000 == 0:\n",
    "            print(i)\n",
    "\n",
    "    pd_df = pd.DataFrame(dict_df)\n",
    "    return pd_df\n",
    "    #train_df = train_df.merge(pd_df, on='INDEX')"
   ]
  },
  {
   "cell_type": "code",
   "execution_count": null,
   "metadata": {},
   "outputs": [],
   "source": []
  },
  {
   "cell_type": "code",
   "execution_count": 47,
   "metadata": {
    "tags": []
   },
   "outputs": [
    {
     "output_type": "stream",
     "name": "stdout",
     "text": "0\n1000\n2000\n3000\n4000\n5000\n6000\n7000\n8000\n9000\n10000\n11000\n12000\n13000\n14000\n15000\n16000\n17000\n18000\n19000\n20000\n21000\n22000\n23000\n24000\n25000\n26000\n27000\n28000\n29000\n30000\n31000\n32000\n33000\n34000\n35000\n36000\n37000\n38000\n39000\n40000\n41000\n42000\n43000\n44000\n45000\n46000\n47000\n48000\n49000\n50000\n51000\n52000\n53000\n54000\n55000\n56000\n57000\n58000\n59000\n60000\n61000\n62000\n63000\n64000\n65000\n66000\n67000\n68000\n69000\n70000\n71000\n72000\n73000\n74000\n75000\n76000\n77000\n78000\n79000\n80000\n81000\n82000\n83000\n84000\n85000\n86000\n87000\n88000\n89000\n90000\n91000\n92000\n93000\n94000\n95000\n96000\n97000\n98000\n99000\n100000\n101000\n102000\n103000\n104000\n105000\n106000\n107000\n108000\n109000\n110000\n111000\n112000\n113000\n114000\n115000\n116000\n117000\n118000\n119000\n120000\nRDKit WARNING: [14:53:51] WARNING: not removing hydrogen atom without neighbors\n121000\n"
    }
   ],
   "source": [
    "#For each row, extract the features and add them to the dataset\n",
    "\n",
    "#Iterate rows, create a new dataset\n",
    "'''\n",
    "dict_df = []\n",
    "tmp_dict = {}\n",
    "for i in range(len([1,2,3])):\n",
    "    tmp_dict = {}\n",
    "    #Make a list of dictionaries\n",
    "    row = train_df.iloc[i,:]\n",
    "\n",
    "    m_row = Chem.MolFromSmiles(row['SMILES'])\n",
    "    tmp_dict['INDEX'] = row['INDEX']\n",
    "    tmp_dict['num_atoms'] = m_row.GetNumAtoms()\n",
    "    tmp_dict['mol_wt'] = d.CalcExactMolWt(m_row)\n",
    "\n",
    "    #generate fingerprints: Morgan fingerprint, radius 2\n",
    "    nBits = 124\n",
    "    fp = AllChem.GetMorganFingerprintAsBitVect(m_row,2,nBits=nBits)\n",
    "    fp_a = np.array(fp)\n",
    "    for i in range(nBits):\n",
    "        tmp_dict['mf_'+str(i)] = fp_a[i]\n",
    "\n",
    "    #Get all fragment features\n",
    "    frag_features = inspect.getmembers(f, inspect.isfunction)\n",
    "\n",
    "    for i in range(len(frag_features)):\n",
    "\n",
    "        #exclude attributes that start with _ \n",
    "        if frag_features[i][0].startswith('_') == False:\n",
    "            #Apply every function to the m_row\n",
    "            feat = frag_features[i][1](m_row)\n",
    "\n",
    "            #Add it to the dict\n",
    "            tmp_dict['fr_'+frag_features[i][0]] = feat\n",
    "\n",
    "    dict_df.append(tmp_dict)\n",
    "    #print(tmp_dict)\n",
    "\n",
    "pd_df = pd.DataFrame(dict_df)\n",
    "train_df = train_df.merge(pd_df, on='INDEX')\n",
    "\n",
    "#Then, inner join the two dataset using the index\n",
    "'''\n",
    "train_df = add_features(start_train_df)"
   ]
  },
  {
   "cell_type": "code",
   "execution_count": 48,
   "metadata": {
    "tags": []
   },
   "outputs": [
    {
     "output_type": "stream",
     "name": "stdout",
     "text": "INDEX  ACTIVE                                             SMILES  \\\n0            1     0.0                        CC#CCCCC(=O)Nc1ccccc1C(=O)O   \n1            2     0.0  [O-][Cl+3]([O-])([O-])[O-].c1ccc(-c2[nH]c[n+](...   \n2            3     0.0   CCOC(=O)CSc1nnc(NC(=O)c2cccc([N+](=O)[O-])c2C)s1   \n3            4     0.0  O=C(CN1CCN(S(=O)(=O)c2ccccc2)CC1)Nc1ccc(Cl)c(C...   \n4            5     0.0         Cc1cc(NN/C=C2\\C=CC(=O)C=C2O)nc(N2CCOCC2)n1   \n...        ...     ...                                                ...   \n121369  121370     0.0        O=C(NCc1cccs1)C1CCCN(S(=O)(=O)c2cnc[nH]2)C1   \n121370  121371     0.0                         COc1ccc(Cn2nc(C)cc2C)cc1OC   \n121371  121372     0.0  Cc1ccc(-c2nn(-c3cc(Cl)ccc3[N+](=O)[O-])c(=O)c3...   \n121372  121373     0.0        O=C(OCCN1C(=O)c2ccccc2C1=O)c1cccc(OC(F)F)c1   \n121373  121374     0.0  Cc1cc(C)c(C)c(S(=O)(=O)N2CCC(C(=O)Nc3ccccc3N3C...   \n\n        num_atoms      mol_wt  mf_0  mf_1  mf_2  mf_3  mf_4  ...  B  S  P  N  \\\n0              18  245.105193     0     0     0     0     0  ...  0  0  0  1   \n1              26  376.082599     0     0     1     1     0  ...  0  0  0  0   \n2              25  382.040562     0     0     0     0     1  ...  0  1  0  2   \n3              27  427.052418     0     0     1     0     0  ...  0  1  0  3   \n4              24  329.148789     0     0     1     1     0  ...  0  0  0  3   \n...           ...         ...   ...   ...   ...   ...   ...  ... .. .. .. ..   \n121369         23  354.082032     0     0     1     0     0  ...  0  1  0  2   \n121370         18  246.136828     0     0     0     1     0  ...  0  0  0  0   \n121371         29  405.088019     0     0     0     0     1  ...  0  0  0  1   \n121372         26  361.076179     0     0     0     0     0  ...  0  0  0  1   \n121373         34  485.234828     0     1     0     0     0  ...  0  1  0  3   \n\n        I  O  Cl  Br  OH  smile_length  \n0       0  3   0   0   0            27  \n1       0  5   1   0   0            68  \n2       0  5   0   0   0            48  \n3       0  3   2   0   0            50  \n4       0  3   0   0   0            42  \n...    .. ..  ..  ..  ..           ...  \n121369  0  3   0   0   0            43  \n121370  0  2   0   0   0            26  \n121371  0  3   1   0   0            58  \n121372  0  5   0   0   0            43  \n121373  0  4   0   0   0            59  \n\n[121374 rows x 243 columns]\n['INDEX' 'ACTIVE' 'SMILES' 'num_atoms' 'mol_wt' 'mf_0' 'mf_1' 'mf_2'\n 'mf_3' 'mf_4' 'mf_5' 'mf_6' 'mf_7' 'mf_8' 'mf_9' 'mf_10' 'mf_11' 'mf_12'\n 'mf_13' 'mf_14' 'mf_15' 'mf_16' 'mf_17' 'mf_18' 'mf_19' 'mf_20' 'mf_21'\n 'mf_22' 'mf_23' 'mf_24' 'mf_25' 'mf_26' 'mf_27' 'mf_28' 'mf_29' 'mf_30'\n 'mf_31' 'mf_32' 'mf_33' 'mf_34' 'mf_35' 'mf_36' 'mf_37' 'mf_38' 'mf_39'\n 'mf_40' 'mf_41' 'mf_42' 'mf_43' 'mf_44' 'mf_45' 'mf_46' 'mf_47' 'mf_48'\n 'mf_49' 'mf_50' 'mf_51' 'mf_52' 'mf_53' 'mf_54' 'mf_55' 'mf_56' 'mf_57'\n 'mf_58' 'mf_59' 'mf_60' 'mf_61' 'mf_62' 'mf_63' 'mf_64' 'mf_65' 'mf_66'\n 'mf_67' 'mf_68' 'mf_69' 'mf_70' 'mf_71' 'mf_72' 'mf_73' 'mf_74' 'mf_75'\n 'mf_76' 'mf_77' 'mf_78' 'mf_79' 'mf_80' 'mf_81' 'mf_82' 'mf_83' 'mf_84'\n 'mf_85' 'mf_86' 'mf_87' 'mf_88' 'mf_89' 'mf_90' 'mf_91' 'mf_92' 'mf_93'\n 'mf_94' 'mf_95' 'mf_96' 'mf_97' 'mf_98' 'mf_99' 'mf_100' 'mf_101'\n 'mf_102' 'mf_103' 'mf_104' 'mf_105' 'mf_106' 'mf_107' 'mf_108' 'mf_109'\n 'mf_110' 'mf_111' 'mf_112' 'mf_113' 'mf_114' 'mf_115' 'mf_116' 'mf_117'\n 'mf_118' 'mf_119' 'mf_120' 'mf_121' 'mf_122' 'mf_123' 'fr_Al_COO'\n 'fr_Al_OH' 'fr_Al_OH_noTert' 'fr_ArN' 'fr_Ar_COO' 'fr_Ar_N' 'fr_Ar_NH'\n 'fr_Ar_OH' 'fr_COO' 'fr_COO2' 'fr_C_O' 'fr_C_O_noCOO' 'fr_C_S' 'fr_HOCCN'\n 'fr_Imine' 'fr_NH0' 'fr_NH1' 'fr_NH2' 'fr_N_O' 'fr_Ndealkylation1'\n 'fr_Ndealkylation2' 'fr_Nhpyrrole' 'fr_SH' 'fr_aldehyde'\n 'fr_alkyl_carbamate' 'fr_alkyl_halide' 'fr_allylic_oxid' 'fr_amide'\n 'fr_amidine' 'fr_aniline' 'fr_aryl_methyl' 'fr_azide' 'fr_azo'\n 'fr_barbitur' 'fr_benzene' 'fr_benzodiazepine' 'fr_bicyclic' 'fr_diazo'\n 'fr_dihydropyridine' 'fr_epoxide' 'fr_ester' 'fr_ether' 'fr_furan'\n 'fr_guanido' 'fr_halogen' 'fr_hdrzine' 'fr_hdrzone' 'fr_imidazole'\n 'fr_imide' 'fr_isocyan' 'fr_isothiocyan' 'fr_ketone' 'fr_ketone_Topliss'\n 'fr_lactam' 'fr_lactone' 'fr_methoxy' 'fr_morpholine' 'fr_nitrile'\n 'fr_nitro' 'fr_nitro_arom' 'fr_nitro_arom_nonortho' 'fr_nitroso'\n 'fr_oxazole' 'fr_oxime' 'fr_para_hydroxylation' 'fr_phenol'\n 'fr_phenol_noOrthoHbond' 'fr_phos_acid' 'fr_phos_ester' 'fr_piperdine'\n 'fr_piperzine' 'fr_priamide' 'fr_prisulfonamd' 'fr_pyridine' 'fr_quatN'\n 'fr_sulfide' 'fr_sulfonamd' 'fr_sulfone' 'fr_term_acetylene'\n 'fr_tetrazole' 'fr_thiazole' 'fr_thiocyan' 'fr_thiophene'\n 'fr_unbrch_alkane' 'fr_urea' 'lp_FractionCSP3' 'lp_HeavyAtomCount'\n 'lp_NHOHCount' 'lp_NOCount' 'lp_NumAliphaticCarbocycles'\n 'lp_NumAliphaticHeterocycles' 'lp_NumAliphaticRings'\n 'lp_NumAromaticCarbocycles' 'lp_NumAromaticHeterocycles'\n 'lp_NumAromaticRings' 'lp_NumHAcceptors' 'lp_NumHDonors'\n 'lp_NumHeteroatoms' 'lp_NumRotatableBonds' 'lp_NumSaturatedCarbocycles'\n 'lp_NumSaturatedHeterocycles' 'lp_NumSaturatedRings' 'lp_RingCount' 'C'\n 'B' 'S' 'P' 'N' 'I' 'O' 'Cl' 'Br' 'OH' 'smile_length']\n"
    }
   ],
   "source": [
    "print(train_df)\n",
    "print(np.array(train_df.columns))"
   ]
  },
  {
   "cell_type": "code",
   "execution_count": 49,
   "metadata": {
    "tags": []
   },
   "outputs": [
    {
     "output_type": "stream",
     "name": "stdout",
     "text": "0\n1000\n2000\n3000\n4000\n5000\n6000\n7000\n8000\n9000\n10000\n11000\n12000\n13000\n14000\n15000\n16000\n17000\n18000\n19000\n20000\n21000\nRDKit WARNING: [14:56:59] WARNING: not removing hydrogen atom without neighbors\n22000\n23000\n24000\n25000\n26000\n27000\n28000\n29000\n30000\n31000\n32000\n33000\n34000\n35000\n36000\n37000\n38000\n39000\n40000\n"
    }
   ],
   "source": [
    "#Same for test set\n",
    "\n",
    "#Iterate rows, create a new dataset\n",
    "'''\n",
    "dict_df = []\n",
    "tmp_dict = {}\n",
    "for i in range(len(test_df)):\n",
    "    tmp_dict = {}\n",
    "    #Make a list of dictionaries\n",
    "    row = test_df.iloc[i,:]\n",
    "\n",
    "    m_row = Chem.MolFromSmiles(row['SMILES'])\n",
    "    tmp_dict['INDEX'] = row['INDEX']\n",
    "    tmp_dict['num_atoms'] = m_row.GetNumAtoms()\n",
    "    tmp_dict['mol_wt'] = d.CalcExactMolWt(m_row)\n",
    "    dict_df.append(tmp_dict)\n",
    "    #print(tmp_dict)\n",
    "\n",
    "pd_df = pd.DataFrame(dict_df)\n",
    "test_df = test_df.merge(pd_df, on='INDEX')\n",
    "'''\n",
    "test_df = add_features(start_test_df, type='test')"
   ]
  },
  {
   "cell_type": "code",
   "execution_count": 50,
   "metadata": {
    "tags": []
   },
   "outputs": [
    {
     "output_type": "stream",
     "name": "stdout",
     "text": "INDEX                                             SMILES  num_atoms  \\\n0      121375  Cc1ccc(-c2csc(NC(=O)C3=NN(c4ccccc4)C(=O)CC3)n2...         28   \n1      121376  O=C(Nc1ccccc1)N1CC[C@@]2(CCCN(C(=O)c3cccc(F)c3...         28   \n2      121377        CC(=O)N1C(=O)N(C(C)=O)C2C1N(C)C(=O)N2C(C)=O         20   \n3      121378  CCOC(=O)Cn1/c(=N/C(=O)c2ccc([N+](=O)[O-])s2)sc...         26   \n4      121379  Cc1ccc(S(=O)(=O)N2CCC(C(=O)Nc3nnc(C45CC6CC(CC(...         34   \n...       ...                                                ...        ...   \n40453  161828            O=C(CSc1nnc(-c2ccncc2)o1)N1CCc2ccccc2C1         25   \n40454  161829    N=c1sccn1CC(=O)Nc1ccc(Cl)c(S(=O)(=O)N2CCOCC2)c1         26   \n40455  161830  CC(/C=C/c1ccc2c(c1)OCO2)=N\\NC(=O)c1cccc([N+](=...         26   \n40456  161831        CC(C)Cn1c(=O)c(C(=O)Nc2cnccn2)c(O)c2ccccc21         25   \n40457  161832  O=C(CSc1nc2c(c(C(F)(F)F)n1)CCc1ccccc1-2)NCc1cc...         31   \n\n           mol_wt  mf_0  mf_1  mf_2  mf_3  mf_4  mf_5  ...  B  S  P  N  I  O  \\\n0      390.115047     0     0     0     1     0     1  ...  0  0  0  3  0  2   \n1      381.185255     0     0     1     1     0     1  ...  0  0  0  3  0  2   \n2      282.096420     0     0     1     1     0     1  ...  0  0  0  4  0  5   \n3      391.029663     0     0     0     0     0     1  ...  0  0  0  2  0  5   \n4      500.191583     0     0     0     0     0     1  ...  0  1  0  2  0  3   \n...           ...   ...   ...   ...   ...   ...   ...  ... .. .. .. .. .. ..   \n40453  352.099397     0     0     0     1     1     1  ...  0  1  0  1  0  1   \n40454  416.037975     0     0     1     0     1     1  ...  0  1  0  3  0  4   \n40455  353.101171     0     1     1     1     1     1  ...  0  0  0  3  0  5   \n40456  338.137890     1     1     1     0     0     1  ...  0  0  0  1  0  3   \n40457  447.102846     0     0     0     1     1     1  ...  0  1  0  1  0  1   \n\n       Cl  Br  OH  smile_length  \n0       0   0   0            50  \n1       0   0   0            52  \n2       0   0   0            43  \n3       0   0   0            54  \n4       0   0   0            65  \n...    ..  ..  ..           ...  \n40453   0   0   0            39  \n40454   1   0   0            47  \n40455   0   0   0            55  \n40456   0   0   0            43  \n40457   0   0   0            53  \n\n[40458 rows x 242 columns]\n"
    }
   ],
   "source": [
    "print(test_df)"
   ]
  },
  {
   "cell_type": "code",
   "execution_count": 51,
   "metadata": {},
   "outputs": [],
   "source": [
    "#Save the two dataset\n",
    "\n",
    "train_df.to_csv(\"Datasets/train_complete.csv\")\n",
    "test_df.to_csv(\"Datasets/test_complete.csv\")"
   ]
  },
  {
   "cell_type": "code",
   "execution_count": null,
   "metadata": {},
   "outputs": [],
   "source": []
  }
 ]
}