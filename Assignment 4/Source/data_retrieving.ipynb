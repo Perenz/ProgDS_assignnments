{
 "metadata": {
  "language_info": {
   "codemirror_mode": {
    "name": "ipython",
    "version": 3
   },
   "file_extension": ".py",
   "mimetype": "text/x-python",
   "name": "python",
   "nbconvert_exporter": "python",
   "pygments_lexer": "ipython3",
   "version": "3.8.3-final"
  },
  "orig_nbformat": 2,
  "kernelspec": {
   "name": "python_defaultSpec_1606816589929",
   "display_name": "Python 3.8.3 64-bit ('base': conda)"
  }
 },
 "nbformat": 4,
 "nbformat_minor": 2,
 "cells": [
  {
   "cell_type": "code",
   "execution_count": 87,
   "metadata": {},
   "outputs": [],
   "source": [
    "from rdkit import Chem\n",
    "import pandas as pd\n",
    "import numpy as np\n",
    "import rdkit.Chem.rdMolDescriptors as d\n",
    "from sklearn.model_selection import train_test_split\n",
    "from rdkit.Chem import AllChem\n",
    "import rdkit.Chem.Fragments as f\n",
    "from rdkit.Chem import Lipinski as l\n",
    "import inspect\n"
   ]
  },
  {
   "cell_type": "code",
   "execution_count": 21,
   "metadata": {},
   "outputs": [],
   "source": [
    "train_df = pd.read_csv(\"training_smiles.csv\")\n",
    "test_df = pd.read_csv(\"test_smiles.csv\")"
   ]
  },
  {
   "cell_type": "code",
   "execution_count": 27,
   "metadata": {
    "tags": []
   },
   "outputs": [
    {
     "output_type": "stream",
     "name": "stdout",
     "text": "Index(['INDEX', 'SMILES', 'ACTIVE'], dtype='object')\n   INDEX                                             SMILES  ACTIVE\n0      1                        CC#CCCCC(=O)Nc1ccccc1C(=O)O     0.0\n1      2  [O-][Cl+3]([O-])([O-])[O-].c1ccc(-c2[nH]c[n+](...     0.0\n2      3   CCOC(=O)CSc1nnc(NC(=O)c2cccc([N+](=O)[O-])c2C)s1     0.0\n3      4  O=C(CN1CCN(S(=O)(=O)c2ccccc2)CC1)Nc1ccc(Cl)c(C...     0.0\n4      5         Cc1cc(NN/C=C2\\C=CC(=O)C=C2O)nc(N2CCOCC2)n1     0.0\n"
    }
   ],
   "source": [
    "print(train_df.columns)\n",
    "print(train_df.head())"
   ]
  },
  {
   "cell_type": "code",
   "execution_count": 23,
   "metadata": {
    "tags": []
   },
   "outputs": [
    {
     "output_type": "stream",
     "name": "stdout",
     "text": "18\n"
    }
   ],
   "source": [
    "ex = train_df.iloc[0,:]\n",
    "m_ex = Chem.MolFromSmiles(ex['SMILES'])\n",
    "\n",
    "print(m_ex.GetNumAtoms())\n"
   ]
  },
  {
   "cell_type": "code",
   "execution_count": 106,
   "metadata": {
    "tags": []
   },
   "outputs": [],
   "source": [
    "lip_features = inspect.getmembers(l, inspect.isfunction)\n",
    "desc_features = inspect.getmembers(d, inspect.isfunction)\n",
    "frag_features = inspect.getmembers(f, inspect.isfunction)\n",
    "\n",
    "\n",
    "def add_features(dataset):\n",
    "    #Iterate rows, create a new dataset\n",
    "    dict_df = []\n",
    "    tmp_dict = {}\n",
    "    for i in range(len(dataset)): #len(dataset)\n",
    "        tmp_dict = {}\n",
    "        #Make a list of dictionaries\n",
    "        row = train_df.iloc[i,:]\n",
    "\n",
    "        \n",
    "        tmp_dict['INDEX'] = row['INDEX']\n",
    "        tmp_dict['ACTIVE'] = row['ACTIVE']\n",
    "        tmp_dict['SMILES'] = row['SMILES']\n",
    "\n",
    "        m_row = Chem.MolFromSmiles(row['SMILES'])\n",
    "        tmp_dict['num_atoms'] = m_row.GetNumAtoms()\n",
    "        tmp_dict['mol_wt'] = d.CalcExactMolWt(m_row)\n",
    "\n",
    "        #generate fingerprints: Morgan fingerprint, radius 2\n",
    "        nBits = 124\n",
    "        fp = AllChem.GetMorganFingerprintAsBitVect(m_row,2,nBits=nBits)\n",
    "        fp_a = np.array(fp)\n",
    "        for i in range(nBits):\n",
    "            tmp_dict['mf_'+str(i)] = fp_a[i]\n",
    "\n",
    "        #Get all fragment features\n",
    "        for i in range(len(frag_features)):\n",
    "\n",
    "            #exclude attributes that start with _ \n",
    "            if frag_features[i][0].startswith('_') == False:\n",
    "                #Apply every function to the m_row\n",
    "                feat = frag_features[i][1](m_row)\n",
    "\n",
    "                #Add it to the dict\n",
    "                tmp_dict[frag_features[i][0]] = feat\n",
    "\n",
    "        #Get all lipinski\n",
    "        for i in range(len(lip_features)):\n",
    "\n",
    "            #exclude attributes that start with _ \n",
    "            if lip_features[i][0].startswith('_') == False:\n",
    "                #Apply every function to the m_row\n",
    "                feat = lip_features[i][1](m_row)\n",
    "\n",
    "                #Add it to the dict\n",
    "                tmp_dict[lip_features[i][0]] = feat\n",
    "\n",
    "\n",
    "\n",
    "        dict_df.append(tmp_dict)\n",
    "        #print(tmp_dict)\n",
    "\n",
    "    pd_df = pd.DataFrame(dict_df)\n",
    "    return pd_df\n",
    "    #train_df = train_df.merge(pd_df, on='INDEX')"
   ]
  },
  {
   "cell_type": "code",
   "execution_count": 107,
   "metadata": {
    "tags": []
   },
   "outputs": [],
   "source": [
    "#For each row, extract the features and add them to the dataset\n",
    "\n",
    "#Iterate rows, create a new dataset\n",
    "'''\n",
    "dict_df = []\n",
    "tmp_dict = {}\n",
    "for i in range(len([1,2,3])):\n",
    "    tmp_dict = {}\n",
    "    #Make a list of dictionaries\n",
    "    row = train_df.iloc[i,:]\n",
    "\n",
    "    m_row = Chem.MolFromSmiles(row['SMILES'])\n",
    "    tmp_dict['INDEX'] = row['INDEX']\n",
    "    tmp_dict['num_atoms'] = m_row.GetNumAtoms()\n",
    "    tmp_dict['mol_wt'] = d.CalcExactMolWt(m_row)\n",
    "\n",
    "    #generate fingerprints: Morgan fingerprint, radius 2\n",
    "    nBits = 124\n",
    "    fp = AllChem.GetMorganFingerprintAsBitVect(m_row,2,nBits=nBits)\n",
    "    fp_a = np.array(fp)\n",
    "    for i in range(nBits):\n",
    "        tmp_dict['mf_'+str(i)] = fp_a[i]\n",
    "\n",
    "    #Get all fragment features\n",
    "    frag_features = inspect.getmembers(f, inspect.isfunction)\n",
    "\n",
    "    for i in range(len(frag_features)):\n",
    "\n",
    "        #exclude attributes that start with _ \n",
    "        if frag_features[i][0].startswith('_') == False:\n",
    "            #Apply every function to the m_row\n",
    "            feat = frag_features[i][1](m_row)\n",
    "\n",
    "            #Add it to the dict\n",
    "            tmp_dict['fr_'+frag_features[i][0]] = feat\n",
    "\n",
    "    dict_df.append(tmp_dict)\n",
    "    #print(tmp_dict)\n",
    "\n",
    "pd_df = pd.DataFrame(dict_df)\n",
    "train_df = train_df.merge(pd_df, on='INDEX')\n",
    "\n",
    "#Then, inner join the two dataset using the index\n",
    "'''\n",
    "train_df = add_features(train_df)"
   ]
  },
  {
   "cell_type": "code",
   "execution_count": 105,
   "metadata": {
    "tags": []
   },
   "outputs": [
    {
     "output_type": "stream",
     "name": "stdout",
     "text": "INDEX  ACTIVE                                             SMILES  \\\n0      1     0.0                        CC#CCCCC(=O)Nc1ccccc1C(=O)O   \n1      2     0.0  [O-][Cl+3]([O-])([O-])[O-].c1ccc(-c2[nH]c[n+](...   \n2      3     0.0   CCOC(=O)CSc1nnc(NC(=O)c2cccc([N+](=O)[O-])c2C)s1   \n\n   num_atoms      mol_wt  mf_0  mf_1  mf_2  mf_3  mf_4  ...  \\\n0         18  245.105193     0     0     0     0     0  ...   \n1         26  376.082599     0     0     1     1     0  ...   \n2         25  382.040562     0     0     0     0     1  ...   \n\n   NumAromaticHeterocycles  NumAromaticRings  NumHAcceptors  NumHDonors  \\\n0                        0                 1              2           2   \n1                        1                 3              5           1   \n2                        1                 2              9           1   \n\n   NumHeteroatoms  NumRotatableBonds  NumSaturatedCarbocycles  \\\n0               4                  5                        0   \n1               8                  4                        0   \n2              11                  7                        0   \n\n   NumSaturatedHeterocycles  NumSaturatedRings  RingCount  \n0                         0                  0          1  \n1                         1                  1          4  \n2                         0                  0          2  \n\n[3 rows x 232 columns]\n"
    }
   ],
   "source": [
    "print(train_df)"
   ]
  },
  {
   "cell_type": "code",
   "execution_count": 53,
   "metadata": {},
   "outputs": [],
   "source": [
    "#Same for test set\n",
    "\n",
    "#Iterate rows, create a new dataset\n",
    "'''\n",
    "dict_df = []\n",
    "tmp_dict = {}\n",
    "for i in range(len(test_df)):\n",
    "    tmp_dict = {}\n",
    "    #Make a list of dictionaries\n",
    "    row = test_df.iloc[i,:]\n",
    "\n",
    "    m_row = Chem.MolFromSmiles(row['SMILES'])\n",
    "    tmp_dict['INDEX'] = row['INDEX']\n",
    "    tmp_dict['num_atoms'] = m_row.GetNumAtoms()\n",
    "    tmp_dict['mol_wt'] = d.CalcExactMolWt(m_row)\n",
    "    dict_df.append(tmp_dict)\n",
    "    #print(tmp_dict)\n",
    "\n",
    "pd_df = pd.DataFrame(dict_df)\n",
    "test_df = test_df.merge(pd_df, on='INDEX')\n",
    "'''\n",
    "test_df = add_features(test_df)"
   ]
  },
  {
   "cell_type": "code",
   "execution_count": 52,
   "metadata": {
    "tags": []
   },
   "outputs": [
    {
     "output_type": "stream",
     "name": "stdout",
     "text": "INDEX                                             SMILES  num_atoms\n0      121375  Cc1ccc(-c2csc(NC(=O)C3=NN(c4ccccc4)C(=O)CC3)n2...         28\n1      121376  O=C(Nc1ccccc1)N1CC[C@@]2(CCCN(C(=O)c3cccc(F)c3...         28\n2      121377        CC(=O)N1C(=O)N(C(C)=O)C2C1N(C)C(=O)N2C(C)=O         20\n3      121378  CCOC(=O)Cn1/c(=N/C(=O)c2ccc([N+](=O)[O-])s2)sc...         26\n4      121379  Cc1ccc(S(=O)(=O)N2CCC(C(=O)Nc3nnc(C45CC6CC(CC(...         34\n...       ...                                                ...        ...\n40453  161828            O=C(CSc1nnc(-c2ccncc2)o1)N1CCc2ccccc2C1         25\n40454  161829    N=c1sccn1CC(=O)Nc1ccc(Cl)c(S(=O)(=O)N2CCOCC2)c1         26\n40455  161830  CC(/C=C/c1ccc2c(c1)OCO2)=N\\NC(=O)c1cccc([N+](=...         26\n40456  161831        CC(C)Cn1c(=O)c(C(=O)Nc2cnccn2)c(O)c2ccccc21         25\n40457  161832  O=C(CSc1nc2c(c(C(F)(F)F)n1)CCc1ccccc1-2)NCc1cc...         31\n\n[40458 rows x 3 columns]\n"
    }
   ],
   "source": [
    "print(test_df)"
   ]
  },
  {
   "cell_type": "code",
   "execution_count": 51,
   "metadata": {},
   "outputs": [],
   "source": [
    "#Save the two dataset\n",
    "\n",
    "train_df.to_csv(\"Datasets/train_complete.csv\")\n",
    "test_df.to_csv(\"Datasets/test_complete.csv\")"
   ]
  },
  {
   "cell_type": "code",
   "execution_count": null,
   "metadata": {},
   "outputs": [],
   "source": []
  }
 ]
}